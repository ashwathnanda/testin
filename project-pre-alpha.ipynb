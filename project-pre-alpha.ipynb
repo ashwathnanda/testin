{
 "cells": [
  {
   "cell_type": "markdown",
   "metadata": {},
   "source": [
    "Run the cell if you want to install Flashtext"
   ]
  },
  {
   "cell_type": "code",
   "execution_count": 1,
   "metadata": {},
   "outputs": [
    {
     "name": "stdout",
     "output_type": "stream",
     "text": [
      "Collecting flashtext\n",
      "  Downloading https://files.pythonhosted.org/packages/81/d8/2cd0656eae456d615c2f1efbcae8dfca2cb871a31f34ba8925aba47d5e09/flashtext-2.7.tar.gz\n",
      "Building wheels for collected packages: flashtext\n",
      "  Running setup.py bdist_wheel for flashtext ... \u001b[?25ldone\n",
      "\u001b[?25h  Stored in directory: /home/ec2-user/.cache/pip/wheels/37/db/d7/fe74f7cb8e5c3afed90fe6f4967c933a6f13d81ab6b3d3128c\n",
      "Successfully built flashtext\n",
      "Installing collected packages: flashtext\n",
      "Successfully installed flashtext-2.7\n",
      "\u001b[33mYou are using pip version 10.0.1, however version 19.0.3 is available.\n",
      "You should consider upgrading via the 'pip install --upgrade pip' command.\u001b[0m\n"
     ]
    }
   ],
   "source": [
    "!pip install flashtext"
   ]
  },
  {
   "cell_type": "code",
   "execution_count": 2,
   "metadata": {},
   "outputs": [],
   "source": [
    "from flashtext import KeywordProcessor\n",
    "key_processor = KeywordProcessor()"
   ]
  },
  {
   "cell_type": "code",
   "execution_count": 3,
   "metadata": {},
   "outputs": [],
   "source": [
    "import boto3\n",
    "import pandas as pd"
   ]
  },
  {
   "cell_type": "code",
   "execution_count": 4,
   "metadata": {},
   "outputs": [],
   "source": [
    "bucket = 'ashwathbucket'\n",
    "prefix = 'project-datatag'"
   ]
  },
  {
   "cell_type": "code",
   "execution_count": 17,
   "metadata": {},
   "outputs": [],
   "source": [
    "raw_data_filename = 'data_tag.csv'\n",
    "\n",
    "s3 = boto3.resource('s3')\n",
    "s3.Bucket(bucket).download_file(prefix + '/' + raw_data_filename, 'raw_data.csv')"
   ]
  },
  {
   "cell_type": "code",
   "execution_count": 18,
   "metadata": {},
   "outputs": [],
   "source": [
    "data = pd.read_csv('./raw_data.csv')"
   ]
  },
  {
   "cell_type": "code",
   "execution_count": 19,
   "metadata": {},
   "outputs": [
    {
     "data": {
      "text/html": [
       "<div>\n",
       "<style scoped>\n",
       "    .dataframe tbody tr th:only-of-type {\n",
       "        vertical-align: middle;\n",
       "    }\n",
       "\n",
       "    .dataframe tbody tr th {\n",
       "        vertical-align: top;\n",
       "    }\n",
       "\n",
       "    .dataframe thead th {\n",
       "        text-align: right;\n",
       "    }\n",
       "</style>\n",
       "<table border=\"1\" class=\"dataframe\">\n",
       "  <thead>\n",
       "    <tr style=\"text-align: right;\">\n",
       "      <th></th>\n",
       "      <th>Question</th>\n",
       "      <th>Tag</th>\n",
       "      <th>Snippet</th>\n",
       "    </tr>\n",
       "  </thead>\n",
       "  <tbody>\n",
       "    <tr>\n",
       "      <th>0</th>\n",
       "      <td>How delete record Django models?</td>\n",
       "      <td>django,model</td>\n",
       "      <td>SomeModel.objects.filter(id=id).delete()</td>\n",
       "    </tr>\n",
       "    <tr>\n",
       "      <th>1</th>\n",
       "      <td>regex repeating words string `s`</td>\n",
       "      <td>regex,string</td>\n",
       "      <td>re.sub('(?&lt;!\\\\S)((\\\\S+)(?:\\\\s+\\\\2))(?:\\\\s+\\\\2)...</td>\n",
       "    </tr>\n",
       "    <tr>\n",
       "      <th>2</th>\n",
       "      <td>BeautifulSoup search string 'Elsie' inside tag...</td>\n",
       "      <td>beautifulsoup,search</td>\n",
       "      <td>soup.find_all('a', string='Elsie')</td>\n",
       "    </tr>\n",
       "    <tr>\n",
       "      <th>3</th>\n",
       "      <td>normalize pandas dataframe `df` row</td>\n",
       "      <td>pandas,normalize</td>\n",
       "      <td>df.div(df.sum(axis=1), axis=0)</td>\n",
       "    </tr>\n",
       "    <tr>\n",
       "      <th>4</th>\n",
       "      <td>Concatenate elements list 'x' multiple integer...</td>\n",
       "      <td>concatenate,integers</td>\n",
       "      <td>sum(d * 10 ** i for i, d in enumerate(x[::-1]))</td>\n",
       "    </tr>\n",
       "  </tbody>\n",
       "</table>\n",
       "</div>"
      ],
      "text/plain": [
       "                                            Question                   Tag  \\\n",
       "0                   How delete record Django models?          django,model   \n",
       "1                   regex repeating words string `s`          regex,string   \n",
       "2  BeautifulSoup search string 'Elsie' inside tag...  beautifulsoup,search   \n",
       "3                normalize pandas dataframe `df` row      pandas,normalize   \n",
       "4  Concatenate elements list 'x' multiple integer...  concatenate,integers   \n",
       "\n",
       "                                             Snippet  \n",
       "0           SomeModel.objects.filter(id=id).delete()  \n",
       "1  re.sub('(?<!\\\\S)((\\\\S+)(?:\\\\s+\\\\2))(?:\\\\s+\\\\2)...  \n",
       "2                 soup.find_all('a', string='Elsie')  \n",
       "3                     df.div(df.sum(axis=1), axis=0)  \n",
       "4    sum(d * 10 ** i for i, d in enumerate(x[::-1]))  "
      ]
     },
     "execution_count": 19,
     "metadata": {},
     "output_type": "execute_result"
    }
   ],
   "source": [
    "data"
   ]
  },
  {
   "cell_type": "code",
   "execution_count": 44,
   "metadata": {
    "scrolled": true
   },
   "outputs": [
    {
     "data": {
      "text/plain": [
       "['django,model',\n",
       " 'regex,string',\n",
       " 'beautifulsoup,search',\n",
       " 'pandas,normalize',\n",
       " 'concatenate,integers']"
      ]
     },
     "execution_count": 44,
     "metadata": {},
     "output_type": "execute_result"
    }
   ],
   "source": [
    "l = list(data['Tag'])\n",
    "l"
   ]
  },
  {
   "cell_type": "code",
   "execution_count": 54,
   "metadata": {},
   "outputs": [
    {
     "data": {
      "text/plain": [
       "['django', 'regex', 'beautifulsoup', 'pandas', 'concatenate']"
      ]
     },
     "execution_count": 54,
     "metadata": {},
     "output_type": "execute_result"
    }
   ],
   "source": [
    "[i.split(',')[0] for i in l]"
   ]
  },
  {
   "cell_type": "code",
   "execution_count": 55,
   "metadata": {},
   "outputs": [],
   "source": [
    "keyword_dict = {'django': ['django'],\n",
    "        'beautifulsoup': ['beautifulsoup' , 'beautiful soup'],\n",
    "        'pandas': ['pandas'],\n",
    "        'concatnate': ['concatnate'], \n",
    "        'regex': ['regex'],\n",
    "        'model' : ['model'],\n",
    "        'string' : ['string'],\n",
    "        'search' : ['search'],\n",
    "        'normalize' : ['normalize'] }"
   ]
  },
  {
   "cell_type": "code",
   "execution_count": 56,
   "metadata": {},
   "outputs": [],
   "source": [
    "key_processor.add_keywords_from_dict(keyword_dict)"
   ]
  },
  {
   "cell_type": "code",
   "execution_count": 49,
   "metadata": {},
   "outputs": [
    {
     "data": {
      "text/plain": [
       "['regex', 'string']"
      ]
     },
     "execution_count": 49,
     "metadata": {},
     "output_type": "execute_result"
    }
   ],
   "source": [
    "k = key_processor.extract_keywords(' regex app which bulid string')\n",
    "k"
   ]
  },
  {
   "cell_type": "code",
   "execution_count": 50,
   "metadata": {},
   "outputs": [
    {
     "data": {
      "text/plain": [
       "'regex,string'"
      ]
     },
     "execution_count": 50,
     "metadata": {},
     "output_type": "execute_result"
    }
   ],
   "source": [
    "','.join(k)"
   ]
  },
  {
   "cell_type": "code",
   "execution_count": 48,
   "metadata": {},
   "outputs": [
    {
     "name": "stdout",
     "output_type": "stream",
     "text": [
      "SomeModel.objects.filter(id=id).delete()\n"
     ]
    }
   ],
   "source": [
    "t = 'django,model'\n",
    "for i in range(len(l)):\n",
    "    if(t == l[i]):\n",
    "        print(data['Snippet'][i])"
   ]
  },
  {
   "cell_type": "code",
   "execution_count": 51,
   "metadata": {},
   "outputs": [],
   "source": [
    "def return_keyword(word):\n",
    "    ans = key_processor.extract_keywords(word)\n",
    "    return ans\n",
    "\n",
    "def return_code(sentence):\n",
    "    c = return_keyword(sentence)\n",
    "    c = ','.join(c)\n",
    "    for i in range(len(l)):\n",
    "        if(c == l[i]):\n",
    "            print(data['Snippet'][i])"
   ]
  },
  {
   "cell_type": "code",
   "execution_count": 59,
   "metadata": {},
   "outputs": [
    {
     "name": "stdout",
     "output_type": "stream",
     "text": [
      "df.div(df.sum(axis=1), axis=0)\n"
     ]
    }
   ],
   "source": [
    "s = 'pandas normalize dataframe `df` row'\n",
    "code = return_code(s)\n",
    "code"
   ]
  },
  {
   "cell_type": "code",
   "execution_count": null,
   "metadata": {},
   "outputs": [],
   "source": []
  }
 ],
 "metadata": {
  "kernelspec": {
   "display_name": "conda_python3",
   "language": "python",
   "name": "conda_python3"
  },
  "language_info": {
   "codemirror_mode": {
    "name": "ipython",
    "version": 3
   },
   "file_extension": ".py",
   "mimetype": "text/x-python",
   "name": "python",
   "nbconvert_exporter": "python",
   "pygments_lexer": "ipython3",
   "version": "3.6.5"
  }
 },
 "nbformat": 4,
 "nbformat_minor": 2
}
