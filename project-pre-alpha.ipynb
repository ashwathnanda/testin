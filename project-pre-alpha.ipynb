{
 "cells": [
  {
   "cell_type": "markdown",
   "metadata": {},
   "source": [
    "Run the cell if you want to install Flashtext"
   ]
  },
  {
   "cell_type": "code",
   "execution_count": 1,
   "metadata": {
    "scrolled": true
   },
   "outputs": [
    {
     "name": "stdout",
     "output_type": "stream",
     "text": [
      "Collecting flashtext\n",
      "  Downloading https://files.pythonhosted.org/packages/81/d8/2cd0656eae456d615c2f1efbcae8dfca2cb871a31f34ba8925aba47d5e09/flashtext-2.7.tar.gz\n",
      "Building wheels for collected packages: flashtext\n",
      "  Running setup.py bdist_wheel for flashtext ... \u001b[?25ldone\n",
      "\u001b[?25h  Stored in directory: /home/ec2-user/.cache/pip/wheels/37/db/d7/fe74f7cb8e5c3afed90fe6f4967c933a6f13d81ab6b3d3128c\n",
      "Successfully built flashtext\n",
      "Installing collected packages: flashtext\n",
      "Successfully installed flashtext-2.7\n",
      "\u001b[33mYou are using pip version 10.0.1, however version 19.0.3 is available.\n",
      "You should consider upgrading via the 'pip install --upgrade pip' command.\u001b[0m\n"
     ]
    }
   ],
   "source": [
    "!pip install flashtext"
   ]
  },
  {
   "cell_type": "code",
   "execution_count": 2,
   "metadata": {},
   "outputs": [],
   "source": [
    "from flashtext import KeywordProcessor\n",
    "key_processor = KeywordProcessor()"
   ]
  },
  {
   "cell_type": "code",
   "execution_count": 3,
   "metadata": {},
   "outputs": [],
   "source": [
    "import boto3\n",
    "import pandas as pd"
   ]
  },
  {
   "cell_type": "code",
   "execution_count": 4,
   "metadata": {},
   "outputs": [],
   "source": [
    "bucket = 'ashwathbucket'\n",
    "prefix = 'project-datatag'"
   ]
  },
  {
   "cell_type": "code",
   "execution_count": 5,
   "metadata": {},
   "outputs": [],
   "source": [
    "raw_data_filename = 'data_tag.csv'\n",
    "\n",
    "s3 = boto3.resource('s3')\n",
    "s3.Bucket(bucket).download_file(prefix + '/' + raw_data_filename, 'raw_data.csv')"
   ]
  },
  {
   "cell_type": "code",
   "execution_count": 6,
   "metadata": {},
   "outputs": [],
   "source": [
    "data = pd.read_csv('./raw_data.csv')"
   ]
  },
  {
   "cell_type": "code",
   "execution_count": 7,
   "metadata": {},
   "outputs": [
    {
     "data": {
      "text/html": [
       "<div>\n",
       "<style scoped>\n",
       "    .dataframe tbody tr th:only-of-type {\n",
       "        vertical-align: middle;\n",
       "    }\n",
       "\n",
       "    .dataframe tbody tr th {\n",
       "        vertical-align: top;\n",
       "    }\n",
       "\n",
       "    .dataframe thead th {\n",
       "        text-align: right;\n",
       "    }\n",
       "</style>\n",
       "<table border=\"1\" class=\"dataframe\">\n",
       "  <thead>\n",
       "    <tr style=\"text-align: right;\">\n",
       "      <th></th>\n",
       "      <th>Question</th>\n",
       "      <th>Tag</th>\n",
       "      <th>Snippet</th>\n",
       "    </tr>\n",
       "  </thead>\n",
       "  <tbody>\n",
       "    <tr>\n",
       "      <th>0</th>\n",
       "      <td>How delete record Django models?</td>\n",
       "      <td>delete,django,model,record</td>\n",
       "      <td>SomeModel.objects.filter(id=id).delete()</td>\n",
       "    </tr>\n",
       "    <tr>\n",
       "      <th>1</th>\n",
       "      <td>regex repeating words string `s`</td>\n",
       "      <td>regex,repeating,string</td>\n",
       "      <td>re.sub('(?&lt;!\\\\S)((\\\\S+)(?:\\\\s+\\\\2))(?:\\\\s+\\\\2)...</td>\n",
       "    </tr>\n",
       "    <tr>\n",
       "      <th>2</th>\n",
       "      <td>BeautifulSoup search string 'Elsie' inside tag...</td>\n",
       "      <td>beautifulsoup,search,string</td>\n",
       "      <td>soup.find_all('a', string='Elsie')</td>\n",
       "    </tr>\n",
       "    <tr>\n",
       "      <th>3</th>\n",
       "      <td>normalize pandas dataframe `df` row</td>\n",
       "      <td>dataframe,normalize,pandas</td>\n",
       "      <td>df.div(df.sum(axis=1), axis=0)</td>\n",
       "    </tr>\n",
       "    <tr>\n",
       "      <th>4</th>\n",
       "      <td>Concatenate elements list 'x' multiple integer...</td>\n",
       "      <td>concatenate,integers</td>\n",
       "      <td>sum(d * 10 ** i for i, d in enumerate(x[::-1]))</td>\n",
       "    </tr>\n",
       "    <tr>\n",
       "      <th>5</th>\n",
       "      <td>Converting int to String and Strings to int</td>\n",
       "      <td>integer,string</td>\n",
       "      <td>String a = String.valueOf(2);  \\nint i = Integ...</td>\n",
       "    </tr>\n",
       "    <tr>\n",
       "      <th>6</th>\n",
       "      <td>Converting String to date in Java</td>\n",
       "      <td>date,java,string</td>\n",
       "      <td>java.util.Date = java.text.DateFormat.getDateI...</td>\n",
       "    </tr>\n",
       "    <tr>\n",
       "      <th>7</th>\n",
       "      <td>Converting Java util.Date to sql.Date</td>\n",
       "      <td>java,sql.date,util.date</td>\n",
       "      <td>java.util.Date utilDate = new java.util.Date()...</td>\n",
       "    </tr>\n",
       "    <tr>\n",
       "      <th>8</th>\n",
       "      <td>HTTP Proxy setting in Java</td>\n",
       "      <td>http,java,proxy,setting,</td>\n",
       "      <td>System.getProperties().put(\"http.proxyHost\", \"...</td>\n",
       "    </tr>\n",
       "    <tr>\n",
       "      <th>9</th>\n",
       "      <td>Sending the HTTP request and fetching data wit...</td>\n",
       "      <td>fetch,http,java,request</td>\n",
       "      <td>import java.io.BufferedReader;\\nimport java.io...</td>\n",
       "    </tr>\n",
       "    <tr>\n",
       "      <th>10</th>\n",
       "      <td>Creating JSON data in Java</td>\n",
       "      <td>data,json,java</td>\n",
       "      <td>mport org.json.JSONObject; ... ... JSONObject ...</td>\n",
       "    </tr>\n",
       "    <tr>\n",
       "      <th>11</th>\n",
       "      <td>Converting Array to Map in Java</td>\n",
       "      <td>array,java,map</td>\n",
       "      <td>import java.util.Map;\\nimport org.apache.commo...</td>\n",
       "    </tr>\n",
       "    <tr>\n",
       "      <th>12</th>\n",
       "      <td>Get name of current method</td>\n",
       "      <td>current,method,name</td>\n",
       "      <td>String methodName = Thread.currentThread().get...</td>\n",
       "    </tr>\n",
       "    <tr>\n",
       "      <th>13</th>\n",
       "      <td>Appending content to file in Java</td>\n",
       "      <td>append,file,java</td>\n",
       "      <td>Jaxenter out = null;\\ntry {\\n    out = new Jax...</td>\n",
       "    </tr>\n",
       "  </tbody>\n",
       "</table>\n",
       "</div>"
      ],
      "text/plain": [
       "                                             Question  \\\n",
       "0                    How delete record Django models?   \n",
       "1                    regex repeating words string `s`   \n",
       "2   BeautifulSoup search string 'Elsie' inside tag...   \n",
       "3                 normalize pandas dataframe `df` row   \n",
       "4   Concatenate elements list 'x' multiple integer...   \n",
       "5         Converting int to String and Strings to int   \n",
       "6                   Converting String to date in Java   \n",
       "7               Converting Java util.Date to sql.Date   \n",
       "8                          HTTP Proxy setting in Java   \n",
       "9   Sending the HTTP request and fetching data wit...   \n",
       "10                         Creating JSON data in Java   \n",
       "11                    Converting Array to Map in Java   \n",
       "12                         Get name of current method   \n",
       "13                  Appending content to file in Java   \n",
       "\n",
       "                            Tag  \\\n",
       "0    delete,django,model,record   \n",
       "1        regex,repeating,string   \n",
       "2   beautifulsoup,search,string   \n",
       "3    dataframe,normalize,pandas   \n",
       "4          concatenate,integers   \n",
       "5                integer,string   \n",
       "6              date,java,string   \n",
       "7       java,sql.date,util.date   \n",
       "8      http,java,proxy,setting,   \n",
       "9       fetch,http,java,request   \n",
       "10               data,json,java   \n",
       "11               array,java,map   \n",
       "12          current,method,name   \n",
       "13             append,file,java   \n",
       "\n",
       "                                              Snippet  \n",
       "0            SomeModel.objects.filter(id=id).delete()  \n",
       "1   re.sub('(?<!\\\\S)((\\\\S+)(?:\\\\s+\\\\2))(?:\\\\s+\\\\2)...  \n",
       "2                  soup.find_all('a', string='Elsie')  \n",
       "3                      df.div(df.sum(axis=1), axis=0)  \n",
       "4     sum(d * 10 ** i for i, d in enumerate(x[::-1]))  \n",
       "5   String a = String.valueOf(2);  \\nint i = Integ...  \n",
       "6   java.util.Date = java.text.DateFormat.getDateI...  \n",
       "7   java.util.Date utilDate = new java.util.Date()...  \n",
       "8   System.getProperties().put(\"http.proxyHost\", \"...  \n",
       "9   import java.io.BufferedReader;\\nimport java.io...  \n",
       "10  mport org.json.JSONObject; ... ... JSONObject ...  \n",
       "11  import java.util.Map;\\nimport org.apache.commo...  \n",
       "12  String methodName = Thread.currentThread().get...  \n",
       "13  Jaxenter out = null;\\ntry {\\n    out = new Jax...  "
      ]
     },
     "execution_count": 7,
     "metadata": {},
     "output_type": "execute_result"
    }
   ],
   "source": [
    "data"
   ]
  },
  {
   "cell_type": "code",
   "execution_count": 42,
   "metadata": {},
   "outputs": [],
   "source": [
    "keyword_dict = {'django': ['django'],\n",
    "        'beautifulsoup': ['beautifulsoup' , 'beautiful soup'],\n",
    "        'pandas': ['pandas'],\n",
    "        'concatnate': ['concatnate'], \n",
    "        'regex': ['regex'],\n",
    "        'model' : ['model'],\n",
    "        'string' : ['string'],\n",
    "        'search' : ['search'],\n",
    "        'normalize' : ['normalize'] }"
   ]
  },
  {
   "cell_type": "code",
   "execution_count": 8,
   "metadata": {
    "scrolled": true
   },
   "outputs": [
    {
     "data": {
      "text/plain": [
       "['delete,django,model,record',\n",
       " 'regex,repeating,string',\n",
       " 'beautifulsoup,search,string',\n",
       " 'dataframe,normalize,pandas',\n",
       " 'concatenate,integers',\n",
       " 'integer,string',\n",
       " 'date,java,string',\n",
       " 'java,sql.date,util.date',\n",
       " 'http,java,proxy,setting,',\n",
       " 'fetch,http,java,request',\n",
       " 'data,json,java',\n",
       " 'array,java,map',\n",
       " 'current,method,name',\n",
       " 'append,file,java']"
      ]
     },
     "execution_count": 8,
     "metadata": {},
     "output_type": "execute_result"
    }
   ],
   "source": [
    "l = list(data['Tag'])\n",
    "l"
   ]
  },
  {
   "cell_type": "code",
   "execution_count": 9,
   "metadata": {},
   "outputs": [],
   "source": [
    "my_list2 = []\n",
    "for i in range(len(l)):\n",
    "    m = l[i]\n",
    "    my_list2.extend(m.split(','))\n"
   ]
  },
  {
   "cell_type": "code",
   "execution_count": 41,
   "metadata": {},
   "outputs": [
    {
     "data": {
      "text/plain": [
       "['delete',\n",
       " 'django',\n",
       " 'model',\n",
       " 'record',\n",
       " 'regex',\n",
       " 'repeating',\n",
       " 'string',\n",
       " 'beautifulsoup',\n",
       " 'search',\n",
       " 'string',\n",
       " 'dataframe',\n",
       " 'normalize',\n",
       " 'pandas',\n",
       " 'concatenate',\n",
       " 'integers',\n",
       " 'integer',\n",
       " 'string',\n",
       " 'date',\n",
       " 'java',\n",
       " 'string',\n",
       " 'java',\n",
       " 'sql.date',\n",
       " 'util.date',\n",
       " 'http',\n",
       " 'java',\n",
       " 'proxy',\n",
       " 'setting',\n",
       " '',\n",
       " 'fetch',\n",
       " 'http',\n",
       " 'java',\n",
       " 'request',\n",
       " 'data',\n",
       " 'json',\n",
       " 'java',\n",
       " 'array',\n",
       " 'java',\n",
       " 'map',\n",
       " 'current',\n",
       " 'method',\n",
       " 'name',\n",
       " 'append',\n",
       " 'file',\n",
       " 'java']"
      ]
     },
     "execution_count": 41,
     "metadata": {},
     "output_type": "execute_result"
    }
   ],
   "source": [
    "my_list2"
   ]
  },
  {
   "cell_type": "code",
   "execution_count": 11,
   "metadata": {},
   "outputs": [],
   "source": [
    "key_processor.add_keywords_from_list(my_list2)"
   ]
  },
  {
   "cell_type": "code",
   "execution_count": 40,
   "metadata": {},
   "outputs": [
    {
     "data": {
      "text/plain": [
       "['data', 'java', 'json']"
      ]
     },
     "execution_count": 40,
     "metadata": {},
     "output_type": "execute_result"
    }
   ],
   "source": [
    "k = key_processor.extract_keywords('json data java')\n",
    "k.sort()\n",
    "k"
   ]
  },
  {
   "cell_type": "code",
   "execution_count": 35,
   "metadata": {},
   "outputs": [
    {
     "data": {
      "text/plain": [
       "'http,java,proxy,setting'"
      ]
     },
     "execution_count": 35,
     "metadata": {},
     "output_type": "execute_result"
    }
   ],
   "source": [
    "','.join(k)\n"
   ]
  },
  {
   "cell_type": "code",
   "execution_count": 20,
   "metadata": {},
   "outputs": [],
   "source": [
    "t = 'django,model'\n",
    "for i in range(len(l)):\n",
    "    if(t == l[i]):\n",
    "        print(data['Snippet'][i])"
   ]
  },
  {
   "cell_type": "code",
   "execution_count": 36,
   "metadata": {},
   "outputs": [],
   "source": [
    "def return_keyword(word):\n",
    "    ans = key_processor.extract_keywords(word)\n",
    "    ans.sort()\n",
    "    return ans\n",
    "\n",
    "def return_code(sentence):\n",
    "    c = return_keyword(sentence.lower())\n",
    "    c = ','.join(c)\n",
    "    for i in range(len(l)):\n",
    "        if(c == l[i]):\n",
    "            print(data['Snippet'][i])"
   ]
  },
  {
   "cell_type": "code",
   "execution_count": 43,
   "metadata": {},
   "outputs": [
    {
     "name": "stdout",
     "output_type": "stream",
     "text": [
      "java.util.Date = java.text.DateFormat.getDateInstance().parse(date String);\n"
     ]
    }
   ],
   "source": [
    "s = 'Converting String to date in Java'\n",
    "code = return_code(s)\n",
    "code"
   ]
  },
  {
   "cell_type": "code",
   "execution_count": 23,
   "metadata": {},
   "outputs": [
    {
     "name": "stdout",
     "output_type": "stream",
     "text": [
      "java.util.Date utilDate = new java.util.Date();\n",
      "java.sql.Date sqlDate = new java.sql.Date(utilDate.getTime());\n"
     ]
    }
   ],
   "source": [
    "return_code('util.date to sql.date')"
   ]
  },
  {
   "cell_type": "code",
   "execution_count": null,
   "metadata": {},
   "outputs": [],
   "source": []
  }
 ],
 "metadata": {
  "kernelspec": {
   "display_name": "conda_python3",
   "language": "python",
   "name": "conda_python3"
  },
  "language_info": {
   "codemirror_mode": {
    "name": "ipython",
    "version": 3
   },
   "file_extension": ".py",
   "mimetype": "text/x-python",
   "name": "python",
   "nbconvert_exporter": "python",
   "pygments_lexer": "ipython3",
   "version": "3.6.5"
  }
 },
 "nbformat": 4,
 "nbformat_minor": 2
}
