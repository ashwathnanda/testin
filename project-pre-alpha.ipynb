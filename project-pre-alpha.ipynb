{
 "cells": [
  {
   "cell_type": "markdown",
   "metadata": {},
   "source": [
    "Run the cell if you want to install Flashtext"
   ]
  },
  {
   "cell_type": "code",
   "execution_count": 1,
   "metadata": {},
   "outputs": [
    {
     "name": "stdout",
     "output_type": "stream",
     "text": [
      "Collecting flashtext\n",
      "  Downloading https://files.pythonhosted.org/packages/81/d8/2cd0656eae456d615c2f1efbcae8dfca2cb871a31f34ba8925aba47d5e09/flashtext-2.7.tar.gz\n",
      "Building wheels for collected packages: flashtext\n",
      "  Running setup.py bdist_wheel for flashtext ... \u001b[?25ldone\n",
      "\u001b[?25h  Stored in directory: /home/ec2-user/.cache/pip/wheels/37/db/d7/fe74f7cb8e5c3afed90fe6f4967c933a6f13d81ab6b3d3128c\n",
      "Successfully built flashtext\n",
      "Installing collected packages: flashtext\n",
      "Successfully installed flashtext-2.7\n",
      "\u001b[33mYou are using pip version 10.0.1, however version 19.0.3 is available.\n",
      "You should consider upgrading via the 'pip install --upgrade pip' command.\u001b[0m\n"
     ]
    }
   ],
   "source": [
    "!pip install flashtext"
   ]
  },
  {
   "cell_type": "code",
   "execution_count": 2,
   "metadata": {},
   "outputs": [],
   "source": [
    "from flashtext import KeywordProcessor\n",
    "key_processor = KeywordProcessor()"
   ]
  },
  {
   "cell_type": "code",
   "execution_count": 3,
   "metadata": {},
   "outputs": [],
   "source": [
    "import boto3\n",
    "import pandas as pd"
   ]
  },
  {
   "cell_type": "code",
   "execution_count": 73,
   "metadata": {},
   "outputs": [],
   "source": [
    "bucket = 'ashwathbucket'\n",
    "prefix = 'project-datatag'"
   ]
  },
  {
   "cell_type": "code",
   "execution_count": 110,
   "metadata": {},
   "outputs": [],
   "source": [
    "raw_data_filename = 'data_tag.csv'\n",
    "\n",
    "s3 = boto3.resource('s3')\n",
    "s3.Bucket(bucket).download_file(prefix + '/' + raw_data_filename, 'raw_data.csv')"
   ]
  },
  {
   "cell_type": "code",
   "execution_count": 111,
   "metadata": {},
   "outputs": [],
   "source": [
    "data = pd.read_csv('./raw_data.csv')"
   ]
  },
  {
   "cell_type": "code",
   "execution_count": 112,
   "metadata": {},
   "outputs": [
    {
     "data": {
      "text/html": [
       "<div>\n",
       "<style scoped>\n",
       "    .dataframe tbody tr th:only-of-type {\n",
       "        vertical-align: middle;\n",
       "    }\n",
       "\n",
       "    .dataframe tbody tr th {\n",
       "        vertical-align: top;\n",
       "    }\n",
       "\n",
       "    .dataframe thead th {\n",
       "        text-align: right;\n",
       "    }\n",
       "</style>\n",
       "<table border=\"1\" class=\"dataframe\">\n",
       "  <thead>\n",
       "    <tr style=\"text-align: right;\">\n",
       "      <th></th>\n",
       "      <th>Question</th>\n",
       "      <th>Tag</th>\n",
       "      <th>Snippet</th>\n",
       "    </tr>\n",
       "  </thead>\n",
       "  <tbody>\n",
       "    <tr>\n",
       "      <th>0</th>\n",
       "      <td>How delete record Django models?</td>\n",
       "      <td>delete,django,model</td>\n",
       "      <td>SomeModel.objects.filter(id=id).delete()</td>\n",
       "    </tr>\n",
       "    <tr>\n",
       "      <th>1</th>\n",
       "      <td>regex repeating words string `s`</td>\n",
       "      <td>regex,string</td>\n",
       "      <td>re.sub('(?&lt;!\\\\S)((\\\\S+)(?:\\\\s+\\\\2))(?:\\\\s+\\\\2)...</td>\n",
       "    </tr>\n",
       "    <tr>\n",
       "      <th>2</th>\n",
       "      <td>BeautifulSoup search string 'Elsie' inside tag...</td>\n",
       "      <td>beautifulsoup,search</td>\n",
       "      <td>soup.find_all('a', string='Elsie')</td>\n",
       "    </tr>\n",
       "    <tr>\n",
       "      <th>3</th>\n",
       "      <td>normalize pandas dataframe `df` row</td>\n",
       "      <td>pandas,normalize</td>\n",
       "      <td>df.div(df.sum(axis=1), axis=0)</td>\n",
       "    </tr>\n",
       "    <tr>\n",
       "      <th>4</th>\n",
       "      <td>Concatenate elements list 'x' multiple integer...</td>\n",
       "      <td>concatenate,integers</td>\n",
       "      <td>sum(d * 10 ** i for i, d in enumerate(x[::-1]))</td>\n",
       "    </tr>\n",
       "    <tr>\n",
       "      <th>5</th>\n",
       "      <td>Converting int to String and Strings to int</td>\n",
       "      <td>string,integer</td>\n",
       "      <td>String a = String.valueOf(2);  \\nint i = Integ...</td>\n",
       "    </tr>\n",
       "    <tr>\n",
       "      <th>6</th>\n",
       "      <td>Converting String to date in Java</td>\n",
       "      <td>string,date</td>\n",
       "      <td>java.util.Date = java.text.DateFormat.getDateI...</td>\n",
       "    </tr>\n",
       "    <tr>\n",
       "      <th>7</th>\n",
       "      <td>Converting Java util.Date to sql.Date</td>\n",
       "      <td>util.date,sql.date</td>\n",
       "      <td>java.util.Date utilDate = new java.util.Date()...</td>\n",
       "    </tr>\n",
       "    <tr>\n",
       "      <th>8</th>\n",
       "      <td>HTTP Proxy setting in Java</td>\n",
       "      <td>proxy,setting</td>\n",
       "      <td>System.getProperties().put(\"http.proxyHost\", \"...</td>\n",
       "    </tr>\n",
       "    <tr>\n",
       "      <th>9</th>\n",
       "      <td>Sending the HTTP request and fetching data wit...</td>\n",
       "      <td>http,request</td>\n",
       "      <td>import java.io.BufferedReader;\\nimport java.io...</td>\n",
       "    </tr>\n",
       "    <tr>\n",
       "      <th>10</th>\n",
       "      <td>Creating JSON data in Java</td>\n",
       "      <td>json,java</td>\n",
       "      <td>mport org.json.JSONObject; ... ... JSONObject ...</td>\n",
       "    </tr>\n",
       "    <tr>\n",
       "      <th>11</th>\n",
       "      <td>Converting Array to Map in Java</td>\n",
       "      <td>array,map</td>\n",
       "      <td>import java.util.Map;\\nimport org.apache.commo...</td>\n",
       "    </tr>\n",
       "    <tr>\n",
       "      <th>12</th>\n",
       "      <td>Get name of current method</td>\n",
       "      <td>name,method</td>\n",
       "      <td>String methodName = Thread.currentThread().get...</td>\n",
       "    </tr>\n",
       "    <tr>\n",
       "      <th>13</th>\n",
       "      <td>Appending content to file in Java</td>\n",
       "      <td>append,file</td>\n",
       "      <td>Jaxenter out = null;\\ntry {\\n    out = new Jax...</td>\n",
       "    </tr>\n",
       "  </tbody>\n",
       "</table>\n",
       "</div>"
      ],
      "text/plain": [
       "                                             Question                   Tag  \\\n",
       "0                    How delete record Django models?   delete,django,model   \n",
       "1                    regex repeating words string `s`          regex,string   \n",
       "2   BeautifulSoup search string 'Elsie' inside tag...  beautifulsoup,search   \n",
       "3                 normalize pandas dataframe `df` row      pandas,normalize   \n",
       "4   Concatenate elements list 'x' multiple integer...  concatenate,integers   \n",
       "5         Converting int to String and Strings to int        string,integer   \n",
       "6                   Converting String to date in Java           string,date   \n",
       "7               Converting Java util.Date to sql.Date    util.date,sql.date   \n",
       "8                          HTTP Proxy setting in Java         proxy,setting   \n",
       "9   Sending the HTTP request and fetching data wit...          http,request   \n",
       "10                         Creating JSON data in Java             json,java   \n",
       "11                    Converting Array to Map in Java             array,map   \n",
       "12                         Get name of current method           name,method   \n",
       "13                  Appending content to file in Java           append,file   \n",
       "\n",
       "                                              Snippet  \n",
       "0            SomeModel.objects.filter(id=id).delete()  \n",
       "1   re.sub('(?<!\\\\S)((\\\\S+)(?:\\\\s+\\\\2))(?:\\\\s+\\\\2)...  \n",
       "2                  soup.find_all('a', string='Elsie')  \n",
       "3                      df.div(df.sum(axis=1), axis=0)  \n",
       "4     sum(d * 10 ** i for i, d in enumerate(x[::-1]))  \n",
       "5   String a = String.valueOf(2);  \\nint i = Integ...  \n",
       "6   java.util.Date = java.text.DateFormat.getDateI...  \n",
       "7   java.util.Date utilDate = new java.util.Date()...  \n",
       "8   System.getProperties().put(\"http.proxyHost\", \"...  \n",
       "9   import java.io.BufferedReader;\\nimport java.io...  \n",
       "10  mport org.json.JSONObject; ... ... JSONObject ...  \n",
       "11  import java.util.Map;\\nimport org.apache.commo...  \n",
       "12  String methodName = Thread.currentThread().get...  \n",
       "13  Jaxenter out = null;\\ntry {\\n    out = new Jax...  "
      ]
     },
     "execution_count": 112,
     "metadata": {},
     "output_type": "execute_result"
    }
   ],
   "source": [
    "data"
   ]
  },
  {
   "cell_type": "code",
   "execution_count": 113,
   "metadata": {
    "scrolled": true
   },
   "outputs": [
    {
     "data": {
      "text/plain": [
       "['delete,django,model',\n",
       " 'regex,string',\n",
       " 'beautifulsoup,search',\n",
       " 'pandas,normalize',\n",
       " 'concatenate,integers',\n",
       " 'string,integer',\n",
       " 'string,date',\n",
       " 'util.date,sql.date',\n",
       " 'proxy,setting',\n",
       " 'http,request',\n",
       " 'json,java',\n",
       " 'array,map',\n",
       " 'name,method',\n",
       " 'append,file']"
      ]
     },
     "execution_count": 113,
     "metadata": {},
     "output_type": "execute_result"
    }
   ],
   "source": [
    "l = list(data['Tag'])\n",
    "l"
   ]
  },
  {
   "cell_type": "code",
   "execution_count": 114,
   "metadata": {},
   "outputs": [],
   "source": [
    "my_list2 = []\n",
    "for i in range(len(l)):\n",
    "    m = l[i]\n",
    "    my_list2.extend(m.split(','))\n"
   ]
  },
  {
   "cell_type": "code",
   "execution_count": 115,
   "metadata": {},
   "outputs": [
    {
     "data": {
      "text/plain": [
       "['delete',\n",
       " 'django',\n",
       " 'model',\n",
       " 'regex',\n",
       " 'string',\n",
       " 'beautifulsoup',\n",
       " 'search',\n",
       " 'pandas',\n",
       " 'normalize',\n",
       " 'concatenate',\n",
       " 'integers',\n",
       " 'string',\n",
       " 'integer',\n",
       " 'string',\n",
       " 'date',\n",
       " 'util.date',\n",
       " 'sql.date',\n",
       " 'proxy',\n",
       " 'setting',\n",
       " 'http',\n",
       " 'request',\n",
       " 'json',\n",
       " 'java',\n",
       " 'array',\n",
       " 'map',\n",
       " 'name',\n",
       " 'method',\n",
       " 'append',\n",
       " 'file']"
      ]
     },
     "execution_count": 115,
     "metadata": {},
     "output_type": "execute_result"
    }
   ],
   "source": [
    "my_list = [i.split(',')[0] for i in l]\n",
    "my_list1 = [i.split(',')[1] for i in l]\n",
    "my_list.extend(my_list1)\n",
    "my_list2"
   ]
  },
  {
   "cell_type": "code",
   "execution_count": 55,
   "metadata": {},
   "outputs": [],
   "source": [
    "keyword_dict = {'django': ['django'],\n",
    "        'beautifulsoup': ['beautifulsoup' , 'beautiful soup'],\n",
    "        'pandas': ['pandas'],\n",
    "        'concatnate': ['concatnate'], \n",
    "        'regex': ['regex'],\n",
    "        'model' : ['model'],\n",
    "        'string' : ['string'],\n",
    "        'search' : ['search'],\n",
    "        'normalize' : ['normalize'] }"
   ]
  },
  {
   "cell_type": "code",
   "execution_count": 116,
   "metadata": {},
   "outputs": [],
   "source": [
    "key_processor.add_keywords_from_list(my_list)"
   ]
  },
  {
   "cell_type": "code",
   "execution_count": 118,
   "metadata": {},
   "outputs": [
    {
     "data": {
      "text/plain": [
       "['delete', 'django', 'model']"
      ]
     },
     "execution_count": 118,
     "metadata": {},
     "output_type": "execute_result"
    }
   ],
   "source": [
    "k = key_processor.extract_keywords(' delete django model')\n",
    "k"
   ]
  },
  {
   "cell_type": "code",
   "execution_count": 50,
   "metadata": {},
   "outputs": [
    {
     "data": {
      "text/plain": [
       "'regex,string'"
      ]
     },
     "execution_count": 50,
     "metadata": {},
     "output_type": "execute_result"
    }
   ],
   "source": [
    "','.join(k)"
   ]
  },
  {
   "cell_type": "code",
   "execution_count": 72,
   "metadata": {},
   "outputs": [
    {
     "name": "stdout",
     "output_type": "stream",
     "text": [
      "SomeModel.objects.filter(id=id).delete()\n"
     ]
    }
   ],
   "source": [
    "t = 'django,model'\n",
    "for i in range(len(l)):\n",
    "    if(t == l[i]):\n",
    "        print(data['Snippet'][i])"
   ]
  },
  {
   "cell_type": "code",
   "execution_count": 51,
   "metadata": {},
   "outputs": [],
   "source": [
    "def return_keyword(word):\n",
    "    ans = key_processor.extract_keywords(word)\n",
    "    return ans\n",
    "\n",
    "def return_code(sentence):\n",
    "    c = return_keyword(sentence)\n",
    "    c = ','.join(c)\n",
    "    for i in range(len(l)):\n",
    "        if(c == l[i]):\n",
    "            print(data['Snippet'][i])"
   ]
  },
  {
   "cell_type": "code",
   "execution_count": 121,
   "metadata": {},
   "outputs": [
    {
     "name": "stdout",
     "output_type": "stream",
     "text": [
      "SomeModel.objects.filter(id=id).delete()\n"
     ]
    }
   ],
   "source": [
    "s = 'How to delete record on a django model'\n",
    "code = return_code(s)\n",
    "code"
   ]
  },
  {
   "cell_type": "code",
   "execution_count": 122,
   "metadata": {},
   "outputs": [
    {
     "name": "stdout",
     "output_type": "stream",
     "text": [
      "java.util.Date utilDate = new java.util.Date();\n",
      "java.sql.Date sqlDate = new java.sql.Date(utilDate.getTime());\n"
     ]
    }
   ],
   "source": [
    "return_code('util.date to sql.date')"
   ]
  },
  {
   "cell_type": "code",
   "execution_count": null,
   "metadata": {},
   "outputs": [],
   "source": []
  }
 ],
 "metadata": {
  "kernelspec": {
   "display_name": "conda_python3",
   "language": "python",
   "name": "conda_python3"
  },
  "language_info": {
   "codemirror_mode": {
    "name": "ipython",
    "version": 3
   },
   "file_extension": ".py",
   "mimetype": "text/x-python",
   "name": "python",
   "nbconvert_exporter": "python",
   "pygments_lexer": "ipython3",
   "version": "3.6.5"
  }
 },
 "nbformat": 4,
 "nbformat_minor": 2
}
