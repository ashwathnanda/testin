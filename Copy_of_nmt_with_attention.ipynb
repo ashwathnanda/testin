{
  "nbformat": 4,
  "nbformat_minor": 0,
  "metadata": {
    "colab": {
      "name": "Copy of nmt_with_attention.ipynb",
      "version": "0.3.2",
      "provenance": [],
      "collapsed_sections": [],
      "toc_visible": true,
      "include_colab_link": true
    },
    "kernelspec": {
      "display_name": "Python 3",
      "name": "python3"
    },
    "accelerator": "GPU"
  },
  "cells": [
    {
      "cell_type": "markdown",
      "metadata": {
        "id": "view-in-github",
        "colab_type": "text"
      },
      "source": [
        "<a href=\"https://colab.research.google.com/github/ashwathnanda/testin/blob/master/Copy_of_nmt_with_attention.ipynb\" target=\"_parent\"><img src=\"https://colab.research.google.com/assets/colab-badge.svg\" alt=\"Open In Colab\"/></a>"
      ]
    },
    {
      "cell_type": "markdown",
      "metadata": {
        "colab_type": "text",
        "id": "J0Qjg6vuaHNt"
      },
      "source": [
        "# Neural Machine Translation with Attention"
      ]
    },
    {
      "cell_type": "code",
      "metadata": {
        "colab_type": "code",
        "id": "tnxXKDjq3jEL",
        "outputId": "06248eac-c2a1-40bc-f9a1-773756617bd1",
        "colab": {
          "base_uri": "https://localhost:8080/",
          "height": 530
        }
      },
      "source": [
        "from __future__ import absolute_import, division, print_function, unicode_literals\n",
        "\n",
        "!pip install tensorflow-gpu==2.0.0-alpha0\n",
        "import tensorflow as tf\n",
        "\n",
        "import matplotlib.pyplot as plt\n",
        "from sklearn.model_selection import train_test_split\n",
        "\n",
        "import unicodedata\n",
        "import re\n",
        "import numpy as np\n",
        "import os\n",
        "import io\n",
        "import time"
      ],
      "execution_count": 1,
      "outputs": [
        {
          "output_type": "stream",
          "text": [
            "Collecting tensorflow-gpu==2.0.0-alpha0\n",
            "\u001b[?25l  Downloading https://files.pythonhosted.org/packages/1a/66/32cffad095253219d53f6b6c2a436637bbe45ac4e7be0244557210dc3918/tensorflow_gpu-2.0.0a0-cp36-cp36m-manylinux1_x86_64.whl (332.1MB)\n",
            "\u001b[K     |████████████████████████████████| 332.1MB 58kB/s \n",
            "\u001b[?25hCollecting tf-estimator-nightly<1.14.0.dev2019030116,>=1.14.0.dev2019030115 (from tensorflow-gpu==2.0.0-alpha0)\n",
            "\u001b[?25l  Downloading https://files.pythonhosted.org/packages/13/82/f16063b4eed210dc2ab057930ac1da4fbe1e91b7b051a6c8370b401e6ae7/tf_estimator_nightly-1.14.0.dev2019030115-py2.py3-none-any.whl (411kB)\n",
            "\u001b[K     |████████████████████████████████| 419kB 34.8MB/s \n",
            "\u001b[?25hRequirement already satisfied: numpy<2.0,>=1.14.5 in /usr/local/lib/python3.6/dist-packages (from tensorflow-gpu==2.0.0-alpha0) (1.16.3)\n",
            "Collecting google-pasta>=0.1.2 (from tensorflow-gpu==2.0.0-alpha0)\n",
            "\u001b[?25l  Downloading https://files.pythonhosted.org/packages/f9/68/a14620bfb042691f532dcde8576ff82ee82e4c003cdc0a3dbee5f289cee6/google_pasta-0.1.6-py3-none-any.whl (51kB)\n",
            "\u001b[K     |████████████████████████████████| 61kB 27.7MB/s \n",
            "\u001b[?25hRequirement already satisfied: keras-applications>=1.0.6 in /usr/local/lib/python3.6/dist-packages (from tensorflow-gpu==2.0.0-alpha0) (1.0.7)\n",
            "Requirement already satisfied: astor>=0.6.0 in /usr/local/lib/python3.6/dist-packages (from tensorflow-gpu==2.0.0-alpha0) (0.7.1)\n",
            "Requirement already satisfied: protobuf>=3.6.1 in /usr/local/lib/python3.6/dist-packages (from tensorflow-gpu==2.0.0-alpha0) (3.7.1)\n",
            "Requirement already satisfied: absl-py>=0.7.0 in /usr/local/lib/python3.6/dist-packages (from tensorflow-gpu==2.0.0-alpha0) (0.7.1)\n",
            "Requirement already satisfied: grpcio>=1.8.6 in /usr/local/lib/python3.6/dist-packages (from tensorflow-gpu==2.0.0-alpha0) (1.15.0)\n",
            "Requirement already satisfied: gast>=0.2.0 in /usr/local/lib/python3.6/dist-packages (from tensorflow-gpu==2.0.0-alpha0) (0.2.2)\n",
            "Requirement already satisfied: termcolor>=1.1.0 in /usr/local/lib/python3.6/dist-packages (from tensorflow-gpu==2.0.0-alpha0) (1.1.0)\n",
            "Requirement already satisfied: wheel>=0.26 in /usr/local/lib/python3.6/dist-packages (from tensorflow-gpu==2.0.0-alpha0) (0.33.4)\n",
            "Collecting tb-nightly<1.14.0a20190302,>=1.14.0a20190301 (from tensorflow-gpu==2.0.0-alpha0)\n",
            "\u001b[?25l  Downloading https://files.pythonhosted.org/packages/a9/51/aa1d756644bf4624c03844115e4ac4058eff77acd786b26315f051a4b195/tb_nightly-1.14.0a20190301-py3-none-any.whl (3.0MB)\n",
            "\u001b[K     |████████████████████████████████| 3.0MB 37.7MB/s \n",
            "\u001b[?25hRequirement already satisfied: six>=1.10.0 in /usr/local/lib/python3.6/dist-packages (from tensorflow-gpu==2.0.0-alpha0) (1.12.0)\n",
            "Requirement already satisfied: keras-preprocessing>=1.0.5 in /usr/local/lib/python3.6/dist-packages (from tensorflow-gpu==2.0.0-alpha0) (1.0.9)\n",
            "Requirement already satisfied: h5py in /usr/local/lib/python3.6/dist-packages (from keras-applications>=1.0.6->tensorflow-gpu==2.0.0-alpha0) (2.8.0)\n",
            "Requirement already satisfied: setuptools in /usr/local/lib/python3.6/dist-packages (from protobuf>=3.6.1->tensorflow-gpu==2.0.0-alpha0) (41.0.1)\n",
            "Requirement already satisfied: werkzeug>=0.11.15 in /usr/local/lib/python3.6/dist-packages (from tb-nightly<1.14.0a20190302,>=1.14.0a20190301->tensorflow-gpu==2.0.0-alpha0) (0.15.4)\n",
            "Requirement already satisfied: markdown>=2.6.8 in /usr/local/lib/python3.6/dist-packages (from tb-nightly<1.14.0a20190302,>=1.14.0a20190301->tensorflow-gpu==2.0.0-alpha0) (3.1)\n",
            "Installing collected packages: tf-estimator-nightly, google-pasta, tb-nightly, tensorflow-gpu\n",
            "Successfully installed google-pasta-0.1.6 tb-nightly-1.14.0a20190301 tensorflow-gpu-2.0.0a0 tf-estimator-nightly-1.14.0.dev2019030115\n"
          ],
          "name": "stdout"
        }
      ]
    },
    {
      "cell_type": "code",
      "metadata": {
        "colab_type": "code",
        "id": "kRVATYOgJs1b",
        "colab": {}
      },
      "source": [
        "# Download the file\n",
        "\n",
        "path_to_file = \"keyword-data.txt\""
      ],
      "execution_count": 0,
      "outputs": []
    },
    {
      "cell_type": "code",
      "metadata": {
        "colab_type": "code",
        "id": "rd0jw-eC3jEh",
        "colab": {}
      },
      "source": [
        "# Converts the unicode file to ascii\n",
        "def unicode_to_ascii(s):\n",
        "    return ''.join(c for c in unicodedata.normalize('NFD', s)\n",
        "        if unicodedata.category(c) != 'Mn')\n",
        "\n",
        "\n",
        "def preprocess_sentence(w):\n",
        "    w = unicode_to_ascii(w.lower().strip())\n",
        "\n",
        "    # creating a space between a word and the punctuation following it\n",
        "    # eg: \"he is a boy.\" => \"he is a boy .\"\n",
        "    # Reference:- https://stackoverflow.com/questions/3645931/python-padding-punctuation-with-white-spaces-keeping-punctuation\n",
        "    w = re.sub(r\"([?.!,¿])\", r\" \\1 \", w)\n",
        "    w = re.sub(r'[\" \"]+', \" \", w)\n",
        "\n",
        "    # replacing everything with space except (a-z, A-Z, \".\", \"?\", \"!\", \",\")\n",
        "    w = re.sub(r\"[^a-zA-Z?.!,¿]+\", \" \", w)\n",
        "\n",
        "    w = w.rstrip().strip()\n",
        "\n",
        "    # adding a start and an end token to the sentence\n",
        "    # so that the model know when to start and stop predicting.\n",
        "    w = '<start> ' + w + ' <end>'\n",
        "    return w"
      ],
      "execution_count": 0,
      "outputs": []
    },
    {
      "cell_type": "code",
      "metadata": {
        "colab_type": "code",
        "id": "opI2GzOt479E",
        "outputId": "35608b40-1d2c-49ad-c123-da04721f4c40",
        "colab": {
          "base_uri": "https://localhost:8080/",
          "height": 51
        }
      },
      "source": [
        "en_sentence = u\"May I borrow this book?\"\n",
        "sp_sentence = u\"Puedo tomar prestado este libro?\"\n",
        "print(preprocess_sentence(en_sentence))\n",
        "print(preprocess_sentence(sp_sentence).encode('utf-8'))"
      ],
      "execution_count": 4,
      "outputs": [
        {
          "output_type": "stream",
          "text": [
            "<start> may i borrow this book ? <end>\n",
            "b'<start> puedo tomar prestado este libro ? <end>'\n"
          ],
          "name": "stdout"
        }
      ]
    },
    {
      "cell_type": "code",
      "metadata": {
        "colab_type": "code",
        "id": "OHn4Dct23jEm",
        "colab": {}
      },
      "source": [
        "# 1. Remove the accents\n",
        "# 2. Clean the sentences\n",
        "# 3. Return word pairs in the format: [ENGLISH, SPANISH]\n",
        "def create_dataset(path, num_examples):\n",
        "    lines = io.open(path, encoding='UTF-8').read().strip().split('\\n')\n",
        "\n",
        "    word_pairs = [[preprocess_sentence(w) for w in l.split('\\t')]  for l in lines[:num_examples]]\n",
        "\n",
        "    return zip(*word_pairs)"
      ],
      "execution_count": 0,
      "outputs": []
    },
    {
      "cell_type": "code",
      "metadata": {
        "colab_type": "code",
        "id": "cTbSbBz55QtF",
        "outputId": "34cb7996-7ffe-413a-ded3-77a626c3b349",
        "colab": {
          "base_uri": "https://localhost:8080/",
          "height": 51
        }
      },
      "source": [
        "en, sp = create_dataset(path_to_file, None)\n",
        "print(en[-1])\n",
        "print(sp[-1])"
      ],
      "execution_count": 6,
      "outputs": [
        {
          "output_type": "stream",
          "text": [
            "<start> gmail , google calendar , docs , and talk leave beta <end>\n",
            "<start> google gmail google calendar beta <end>\n"
          ],
          "name": "stdout"
        }
      ]
    },
    {
      "cell_type": "code",
      "metadata": {
        "colab_type": "code",
        "id": "OmMZQpdO60dt",
        "colab": {}
      },
      "source": [
        "def max_length(tensor):\n",
        "    return max(len(t) for t in tensor)"
      ],
      "execution_count": 0,
      "outputs": []
    },
    {
      "cell_type": "code",
      "metadata": {
        "colab_type": "code",
        "id": "bIOn8RCNDJXG",
        "colab": {}
      },
      "source": [
        "def tokenize(lang):\n",
        "  lang_tokenizer = tf.keras.preprocessing.text.Tokenizer(\n",
        "      filters='')\n",
        "  lang_tokenizer.fit_on_texts(lang)\n",
        "\n",
        "  tensor = lang_tokenizer.texts_to_sequences(lang)\n",
        "\n",
        "  tensor = tf.keras.preprocessing.sequence.pad_sequences(tensor,\n",
        "                                                         padding='post')\n",
        "\n",
        "  return tensor, lang_tokenizer"
      ],
      "execution_count": 0,
      "outputs": []
    },
    {
      "cell_type": "code",
      "metadata": {
        "colab_type": "code",
        "id": "eAY9k49G3jE_",
        "colab": {}
      },
      "source": [
        "def load_dataset(path, num_examples=None):\n",
        "    # creating cleaned input, output pairs\n",
        "    inp_lang, targ_lang = create_dataset(path, num_examples)\n",
        "\n",
        "    input_tensor, inp_lang_tokenizer = tokenize(inp_lang)\n",
        "    target_tensor, targ_lang_tokenizer = tokenize(targ_lang)\n",
        "\n",
        "    return input_tensor, target_tensor, inp_lang_tokenizer, targ_lang_tokenizer"
      ],
      "execution_count": 0,
      "outputs": []
    },
    {
      "cell_type": "markdown",
      "metadata": {
        "colab_type": "text",
        "id": "GOi42V79Ydlr"
      },
      "source": [
        "### Limit the size of the dataset to experiment faster (optional)\n",
        "\n",
        "Training on the complete dataset of >100,000 sentences will take a long time. To train faster, we can limit the size of the dataset to 30,000 sentences (of course, translation quality degrades with less data):"
      ]
    },
    {
      "cell_type": "code",
      "metadata": {
        "colab_type": "code",
        "id": "cnxC7q-j3jFD",
        "colab": {}
      },
      "source": [
        "# Try experimenting with the size of that dataset\n",
        "num_examples = 30000\n",
        "input_tensor, target_tensor, inp_lang, targ_lang = load_dataset(path_to_file, num_examples)\n",
        "\n",
        "# Calculate max_length of the target tensors\n",
        "max_length_targ, max_length_inp = max_length(target_tensor), max_length(input_tensor)"
      ],
      "execution_count": 0,
      "outputs": []
    },
    {
      "cell_type": "code",
      "metadata": {
        "colab_type": "code",
        "id": "4QILQkOs3jFG",
        "outputId": "c7ee5596-4bcd-48d2-8b17-b1412e2944a3",
        "colab": {
          "base_uri": "https://localhost:8080/",
          "height": 34
        }
      },
      "source": [
        "# Creating training and validation sets using an 80-20 split\n",
        "input_tensor_train, input_tensor_val, target_tensor_train, target_tensor_val = train_test_split(input_tensor, target_tensor, test_size=0.2)\n",
        "\n",
        "# Show length\n",
        "len(input_tensor_train), len(target_tensor_train), len(input_tensor_val), len(target_tensor_val)"
      ],
      "execution_count": 13,
      "outputs": [
        {
          "output_type": "execute_result",
          "data": {
            "text/plain": [
              "(1432, 1432, 359, 359)"
            ]
          },
          "metadata": {
            "tags": []
          },
          "execution_count": 13
        }
      ]
    },
    {
      "cell_type": "code",
      "metadata": {
        "colab_type": "code",
        "id": "lJPmLZGMeD5q",
        "colab": {}
      },
      "source": [
        "def convert(lang, tensor):\n",
        "  for t in tensor:\n",
        "    if t!=0:\n",
        "      print (\"%d ----> %s\" % (t, lang.index_word[t]))"
      ],
      "execution_count": 0,
      "outputs": []
    },
    {
      "cell_type": "code",
      "metadata": {
        "colab_type": "code",
        "id": "VXukARTDd7MT",
        "outputId": "2e6803c8-6cd7-4ccd-d355-39d015b3e586",
        "colab": {
          "base_uri": "https://localhost:8080/",
          "height": 340
        }
      },
      "source": [
        "print (\"Input Language; index to word mapping\")\n",
        "convert(inp_lang, input_tensor_train[0])\n",
        "print ()\n",
        "print (\"Target Language; index to word mapping\")\n",
        "convert(targ_lang, target_tensor_train[0])"
      ],
      "execution_count": 15,
      "outputs": [
        {
          "output_type": "stream",
          "text": [
            "Input Language; index to word mapping\n",
            "1 ----> <start>\n",
            "6 ----> best\n",
            "2535 ----> bank\n",
            "11 ----> for\n",
            "473 ----> high\n",
            "1241 ----> interest\n",
            "1242 ----> savings\n",
            "823 ----> accounts\n",
            "14 ----> ?\n",
            "2 ----> <end>\n",
            "\n",
            "Target Language; index to word mapping\n",
            "1 ----> <start>\n",
            "242 ----> savings\n",
            "424 ----> interest\n",
            "242 ----> savings\n",
            "425 ----> accounts\n",
            "2 ----> <end>\n"
          ],
          "name": "stdout"
        }
      ]
    },
    {
      "cell_type": "markdown",
      "metadata": {
        "colab_type": "text",
        "id": "rgCLkfv5uO3d"
      },
      "source": [
        "### Create a tf.data dataset"
      ]
    },
    {
      "cell_type": "code",
      "metadata": {
        "colab_type": "code",
        "id": "TqHsArVZ3jFS",
        "colab": {}
      },
      "source": [
        "BUFFER_SIZE = len(input_tensor_train)\n",
        "BATCH_SIZE = 64\n",
        "steps_per_epoch = len(input_tensor_train)//BATCH_SIZE\n",
        "embedding_dim = 256\n",
        "units = 1024\n",
        "vocab_inp_size = len(inp_lang.word_index)+1\n",
        "vocab_tar_size = len(targ_lang.word_index)+1\n",
        "\n",
        "dataset = tf.data.Dataset.from_tensor_slices((input_tensor_train, target_tensor_train)).shuffle(BUFFER_SIZE)\n",
        "dataset = dataset.batch(BATCH_SIZE, drop_remainder=True)"
      ],
      "execution_count": 0,
      "outputs": []
    },
    {
      "cell_type": "code",
      "metadata": {
        "colab_type": "code",
        "id": "qc6-NK1GtWQt",
        "outputId": "71a393b6-9551-426d-8b8c-ca624b23dad2",
        "colab": {
          "base_uri": "https://localhost:8080/",
          "height": 34
        }
      },
      "source": [
        "example_input_batch, example_target_batch = next(iter(dataset))\n",
        "example_input_batch.shape, example_target_batch.shape"
      ],
      "execution_count": 17,
      "outputs": [
        {
          "output_type": "execute_result",
          "data": {
            "text/plain": [
              "(TensorShape([64, 23]), TensorShape([64, 15]))"
            ]
          },
          "metadata": {
            "tags": []
          },
          "execution_count": 17
        }
      ]
    },
    {
      "cell_type": "markdown",
      "metadata": {
        "colab_type": "text",
        "id": "TNfHIF71ulLu"
      },
      "source": [
        "## Write the encoder and decoder model\n",
        "\n",
        "Here, we'll implement an encoder-decoder model with attention which you can read about in the TensorFlow [Neural Machine Translation (seq2seq) tutorial](https://www.tensorflow.org/tutorials/seq2seq). This example uses a more recent set of APIs. This notebook implements the [attention equations](https://www.tensorflow.org/tutorials/seq2seq#background_on_the_attention_mechanism) from the seq2seq tutorial. The following diagram shows that each input words is assigned a weight by the attention mechanism which is then used by the decoder to predict the next word in the sentence.\n",
        "\n",
        "<img src=\"https://www.tensorflow.org/images/seq2seq/attention_mechanism.jpg\" width=\"500\" alt=\"attention mechanism\">\n",
        "\n",
        "The input is put through an encoder model which gives us the encoder output of shape *(batch_size, max_length, hidden_size)* and the encoder hidden state of shape *(batch_size, hidden_size)*.\n",
        "\n",
        "Here are the equations that are implemented:\n",
        "\n",
        "<img src=\"https://www.tensorflow.org/images/seq2seq/attention_equation_0.jpg\" alt=\"attention equation 0\" width=\"800\">\n",
        "<img src=\"https://www.tensorflow.org/images/seq2seq/attention_equation_1.jpg\" alt=\"attention equation 1\" width=\"800\">\n",
        "\n",
        "We're using *Bahdanau attention*. Lets decide on notation before writing the simplified form:\n",
        "\n",
        "* FC = Fully connected (dense) layer\n",
        "* EO = Encoder output\n",
        "* H = hidden state\n",
        "* X = input to the decoder\n",
        "\n",
        "And the pseudo-code:\n",
        "\n",
        "* `score = FC(tanh(FC(EO) + FC(H)))`\n",
        "* `attention weights = softmax(score, axis = 1)`. Softmax by default is applied on the last axis but here we want to apply it on the *1st axis*, since the shape of score is *(batch_size, max_length, hidden_size)*. `Max_length` is the length of our input. Since we are trying to assign a weight to each input, softmax should be applied on that axis.\n",
        "* `context vector = sum(attention weights * EO, axis = 1)`. Same reason as above for choosing axis as 1.\n",
        "* `embedding output` = The input to the decoder X is passed through an embedding layer.\n",
        "* `merged vector = concat(embedding output, context vector)`\n",
        "* This merged vector is then given to the GRU\n",
        "\n",
        "The shapes of all the vectors at each step have been specified in the comments in the code:"
      ]
    },
    {
      "cell_type": "code",
      "metadata": {
        "colab_type": "code",
        "id": "nZ2rI24i3jFg",
        "colab": {}
      },
      "source": [
        "class Encoder(tf.keras.Model):\n",
        "  def __init__(self, vocab_size, embedding_dim, enc_units, batch_sz):\n",
        "    super(Encoder, self).__init__()\n",
        "    self.batch_sz = batch_sz\n",
        "    self.enc_units = enc_units\n",
        "    self.embedding = tf.keras.layers.Embedding(vocab_size, embedding_dim)\n",
        "    self.gru = tf.keras.layers.GRU(self.enc_units,\n",
        "                                   return_sequences=True,\n",
        "                                   return_state=True,\n",
        "                                   recurrent_initializer='glorot_uniform')\n",
        "\n",
        "  def call(self, x, hidden):\n",
        "    x = self.embedding(x)\n",
        "    output, state = self.gru(x, initial_state = hidden)\n",
        "    return output, state\n",
        "\n",
        "  def initialize_hidden_state(self):\n",
        "    return tf.zeros((self.batch_sz, self.enc_units))"
      ],
      "execution_count": 0,
      "outputs": []
    },
    {
      "cell_type": "code",
      "metadata": {
        "colab_type": "code",
        "id": "60gSVh05Jl6l",
        "outputId": "31671bbd-4342-43f4-bf9a-ffd107b3bb8f",
        "colab": {
          "base_uri": "https://localhost:8080/",
          "height": 51
        }
      },
      "source": [
        "encoder = Encoder(vocab_inp_size, embedding_dim, units, BATCH_SIZE)\n",
        "\n",
        "# sample input\n",
        "sample_hidden = encoder.initialize_hidden_state()\n",
        "sample_output, sample_hidden = encoder(example_input_batch, sample_hidden)\n",
        "print ('Encoder output shape: (batch size, sequence length, units) {}'.format(sample_output.shape))\n",
        "print ('Encoder Hidden state shape: (batch size, units) {}'.format(sample_hidden.shape))"
      ],
      "execution_count": 20,
      "outputs": [
        {
          "output_type": "stream",
          "text": [
            "Encoder output shape: (batch size, sequence length, units) (64, 23, 1024)\n",
            "Encoder Hidden state shape: (batch size, units) (64, 1024)\n"
          ],
          "name": "stdout"
        }
      ]
    },
    {
      "cell_type": "code",
      "metadata": {
        "colab_type": "code",
        "id": "umohpBN2OM94",
        "colab": {}
      },
      "source": [
        "class BahdanauAttention(tf.keras.Model):\n",
        "  def __init__(self, units):\n",
        "    super(BahdanauAttention, self).__init__()\n",
        "    self.W1 = tf.keras.layers.Dense(units)\n",
        "    self.W2 = tf.keras.layers.Dense(units)\n",
        "    self.V = tf.keras.layers.Dense(1)\n",
        "\n",
        "  def call(self, query, values):\n",
        "    # hidden shape == (batch_size, hidden size)\n",
        "    # hidden_with_time_axis shape == (batch_size, 1, hidden size)\n",
        "    # we are doing this to perform addition to calculate the score\n",
        "    hidden_with_time_axis = tf.expand_dims(query, 1)\n",
        "\n",
        "    # score shape == (batch_size, max_length, hidden_size)\n",
        "    score = self.V(tf.nn.tanh(\n",
        "        self.W1(values) + self.W2(hidden_with_time_axis)))\n",
        "\n",
        "    # attention_weights shape == (batch_size, max_length, 1)\n",
        "    # we get 1 at the last axis because we are applying score to self.V\n",
        "    attention_weights = tf.nn.softmax(score, axis=1)\n",
        "\n",
        "    # context_vector shape after sum == (batch_size, hidden_size)\n",
        "    context_vector = attention_weights * values\n",
        "    context_vector = tf.reduce_sum(context_vector, axis=1)\n",
        "\n",
        "    return context_vector, attention_weights"
      ],
      "execution_count": 0,
      "outputs": []
    },
    {
      "cell_type": "code",
      "metadata": {
        "colab_type": "code",
        "id": "k534zTHiDjQU",
        "outputId": "8d5d1c2b-e286-49fa-bc73-6022011e027c",
        "colab": {
          "base_uri": "https://localhost:8080/",
          "height": 51
        }
      },
      "source": [
        "attention_layer = BahdanauAttention(10)\n",
        "attention_result, attention_weights = attention_layer(sample_hidden, sample_output)\n",
        "\n",
        "print(\"Attention result shape: (batch size, units) {}\".format(attention_result.shape))\n",
        "print(\"Attention weights shape: (batch_size, sequence_length, 1) {}\".format(attention_weights.shape))"
      ],
      "execution_count": 22,
      "outputs": [
        {
          "output_type": "stream",
          "text": [
            "Attention result shape: (batch size, units) (64, 1024)\n",
            "Attention weights shape: (batch_size, sequence_length, 1) (64, 23, 1)\n"
          ],
          "name": "stdout"
        }
      ]
    },
    {
      "cell_type": "code",
      "metadata": {
        "colab_type": "code",
        "id": "yJ_B3mhW3jFk",
        "colab": {}
      },
      "source": [
        "class Decoder(tf.keras.Model):\n",
        "  def __init__(self, vocab_size, embedding_dim, dec_units, batch_sz):\n",
        "    super(Decoder, self).__init__()\n",
        "    self.batch_sz = batch_sz\n",
        "    self.dec_units = dec_units\n",
        "    self.embedding = tf.keras.layers.Embedding(vocab_size, embedding_dim)\n",
        "    self.gru = tf.keras.layers.GRU(self.dec_units,\n",
        "                                   return_sequences=True,\n",
        "                                   return_state=True,\n",
        "                                   recurrent_initializer='glorot_uniform')\n",
        "    self.fc = tf.keras.layers.Dense(vocab_size)\n",
        "\n",
        "    # used for attention\n",
        "    self.attention = BahdanauAttention(self.dec_units)\n",
        "\n",
        "  def call(self, x, hidden, enc_output):\n",
        "    # enc_output shape == (batch_size, max_length, hidden_size)\n",
        "    context_vector, attention_weights = self.attention(hidden, enc_output)\n",
        "\n",
        "    # x shape after passing through embedding == (batch_size, 1, embedding_dim)\n",
        "    x = self.embedding(x)\n",
        "\n",
        "    # x shape after concatenation == (batch_size, 1, embedding_dim + hidden_size)\n",
        "    x = tf.concat([tf.expand_dims(context_vector, 1), x], axis=-1)\n",
        "\n",
        "    # passing the concatenated vector to the GRU\n",
        "    output, state = self.gru(x)\n",
        "\n",
        "    # output shape == (batch_size * 1, hidden_size)\n",
        "    output = tf.reshape(output, (-1, output.shape[2]))\n",
        "\n",
        "    # output shape == (batch_size, vocab)\n",
        "    x = self.fc(output)\n",
        "\n",
        "    return x, state, attention_weights"
      ],
      "execution_count": 0,
      "outputs": []
    },
    {
      "cell_type": "code",
      "metadata": {
        "colab_type": "code",
        "id": "P5UY8wko3jFp",
        "outputId": "04825471-b1df-40d2-bb94-22f4ebcf393c",
        "colab": {
          "base_uri": "https://localhost:8080/",
          "height": 34
        }
      },
      "source": [
        "decoder = Decoder(vocab_tar_size, embedding_dim, units, BATCH_SIZE)\n",
        "\n",
        "sample_decoder_output, _, _ = decoder(tf.random.uniform((64, 1)),\n",
        "                                      sample_hidden, sample_output)\n",
        "\n",
        "print ('Decoder output shape: (batch_size, vocab size) {}'.format(sample_decoder_output.shape))"
      ],
      "execution_count": 24,
      "outputs": [
        {
          "output_type": "stream",
          "text": [
            "Decoder output shape: (batch_size, vocab size) (64, 760)\n"
          ],
          "name": "stdout"
        }
      ]
    },
    {
      "cell_type": "markdown",
      "metadata": {
        "colab_type": "text",
        "id": "_ch_71VbIRfK"
      },
      "source": [
        "## Define the optimizer and the loss function"
      ]
    },
    {
      "cell_type": "code",
      "metadata": {
        "colab_type": "code",
        "id": "WmTHr5iV3jFr",
        "colab": {}
      },
      "source": [
        "optimizer = tf.keras.optimizers.Adam()\n",
        "loss_object = tf.keras.losses.SparseCategoricalCrossentropy(\n",
        "    from_logits=True, reduction='none')\n",
        "\n",
        "def loss_function(real, pred):\n",
        "  mask = tf.math.logical_not(tf.math.equal(real, 0))\n",
        "  loss_ = loss_object(real, pred)\n",
        "\n",
        "  mask = tf.cast(mask, dtype=loss_.dtype)\n",
        "  loss_ *= mask\n",
        "\n",
        "  return tf.reduce_mean(loss_)"
      ],
      "execution_count": 0,
      "outputs": []
    },
    {
      "cell_type": "markdown",
      "metadata": {
        "colab_type": "text",
        "id": "DMVWzzsfNl4e"
      },
      "source": [
        "## Checkpoints (Object-based saving)"
      ]
    },
    {
      "cell_type": "code",
      "metadata": {
        "colab_type": "code",
        "id": "Zj8bXQTgNwrF",
        "colab": {}
      },
      "source": [
        "checkpoint_dir = './training_checkpoints'\n",
        "checkpoint_prefix = os.path.join(checkpoint_dir, \"ckpt\")\n",
        "checkpoint = tf.train.Checkpoint(optimizer=optimizer,\n",
        "                                 encoder=encoder,\n",
        "                                 decoder=decoder)"
      ],
      "execution_count": 0,
      "outputs": []
    },
    {
      "cell_type": "markdown",
      "metadata": {
        "colab_type": "text",
        "id": "hpObfY22IddU"
      },
      "source": [
        "## Training\n",
        "\n",
        "1. Pass the *input* through the *encoder* which return *encoder output* and the *encoder hidden state*.\n",
        "2. The encoder output, encoder hidden state and the decoder input (which is the *start token*) is passed to the decoder.\n",
        "3. The decoder returns the *predictions* and the *decoder hidden state*.\n",
        "4. The decoder hidden state is then passed back into the model and the predictions are used to calculate the loss.\n",
        "5. Use *teacher forcing* to decide the next input to the decoder.\n",
        "6. *Teacher forcing* is the technique where the *target word* is passed as the *next input* to the decoder.\n",
        "7. The final step is to calculate the gradients and apply it to the optimizer and backpropagate."
      ]
    },
    {
      "cell_type": "code",
      "metadata": {
        "colab_type": "code",
        "id": "sC9ArXSsVfqn",
        "colab": {}
      },
      "source": [
        "@tf.function\n",
        "def train_step(inp, targ, enc_hidden):\n",
        "  loss = 0\n",
        "\n",
        "  with tf.GradientTape() as tape:\n",
        "    enc_output, enc_hidden = encoder(inp, enc_hidden)\n",
        "\n",
        "    dec_hidden = enc_hidden\n",
        "\n",
        "    dec_input = tf.expand_dims([targ_lang.word_index['<start>']] * BATCH_SIZE, 1)\n",
        "\n",
        "    # Teacher forcing - feeding the target as the next input\n",
        "    for t in range(1, targ.shape[1]):\n",
        "      # passing enc_output to the decoder\n",
        "      predictions, dec_hidden, _ = decoder(dec_input, dec_hidden, enc_output)\n",
        "\n",
        "      loss += loss_function(targ[:, t], predictions)\n",
        "\n",
        "      # using teacher forcing\n",
        "      dec_input = tf.expand_dims(targ[:, t], 1)\n",
        "\n",
        "  batch_loss = (loss / int(targ.shape[1]))\n",
        "\n",
        "  variables = encoder.trainable_variables + decoder.trainable_variables\n",
        "\n",
        "  gradients = tape.gradient(loss, variables)\n",
        "\n",
        "  optimizer.apply_gradients(zip(gradients, variables))\n",
        "\n",
        "  return batch_loss"
      ],
      "execution_count": 0,
      "outputs": []
    },
    {
      "cell_type": "code",
      "metadata": {
        "colab_type": "code",
        "id": "ddefjBMa3jF0",
        "outputId": "7b2e49b7-be6c-4d40-aa35-1fc1dd0bc05c",
        "colab": {
          "base_uri": "https://localhost:8080/",
          "height": 6817
        }
      },
      "source": [
        "EPOCHS = 100\n",
        "\n",
        "for epoch in range(EPOCHS):\n",
        "  start = time.time()\n",
        "\n",
        "  enc_hidden = encoder.initialize_hidden_state()\n",
        "  total_loss = 0\n",
        "\n",
        "  for (batch, (inp, targ)) in enumerate(dataset.take(steps_per_epoch)):\n",
        "    batch_loss = train_step(inp, targ, enc_hidden)\n",
        "    total_loss += batch_loss\n",
        "\n",
        "    if batch % 100 == 0:\n",
        "        print('Epoch {} Batch {} Loss {:.4f}'.format(epoch + 1,\n",
        "                                                     batch,\n",
        "                                                     batch_loss.numpy()))\n",
        "  # saving (checkpoint) the model every 2 epochs\n",
        "  if (epoch + 1) % 2 == 0:\n",
        "    checkpoint.save(file_prefix = checkpoint_prefix)\n",
        "\n",
        "  print('Epoch {} Loss {:.4f}'.format(epoch + 1,\n",
        "                                      total_loss / steps_per_epoch))\n",
        "  print('Time taken for 1 epoch {} sec\\n'.format(time.time() - start))"
      ],
      "execution_count": 28,
      "outputs": [
        {
          "output_type": "stream",
          "text": [
            "Epoch 1 Batch 0 Loss 1.3264\n",
            "Epoch 1 Loss 1.3127\n",
            "Time taken for 1 epoch 20.436784982681274 sec\n",
            "\n",
            "Epoch 2 Batch 0 Loss 0.9322\n",
            "Epoch 2 Loss 1.0173\n",
            "Time taken for 1 epoch 3.0138185024261475 sec\n",
            "\n",
            "Epoch 3 Batch 0 Loss 0.8330\n",
            "Epoch 3 Loss 0.9506\n",
            "Time taken for 1 epoch 2.519026041030884 sec\n",
            "\n",
            "Epoch 4 Batch 0 Loss 0.7903\n",
            "Epoch 4 Loss 0.9080\n",
            "Time taken for 1 epoch 2.881924867630005 sec\n",
            "\n",
            "Epoch 5 Batch 0 Loss 0.7716\n",
            "Epoch 5 Loss 0.8761\n",
            "Time taken for 1 epoch 2.5544722080230713 sec\n",
            "\n",
            "Epoch 6 Batch 0 Loss 0.7538\n",
            "Epoch 6 Loss 0.8473\n",
            "Time taken for 1 epoch 3.4340648651123047 sec\n",
            "\n",
            "Epoch 7 Batch 0 Loss 0.7318\n",
            "Epoch 7 Loss 0.8211\n",
            "Time taken for 1 epoch 2.619783639907837 sec\n",
            "\n",
            "Epoch 8 Batch 0 Loss 0.7118\n",
            "Epoch 8 Loss 0.7965\n",
            "Time taken for 1 epoch 2.9488720893859863 sec\n",
            "\n",
            "Epoch 9 Batch 0 Loss 0.6938\n",
            "Epoch 9 Loss 0.7736\n",
            "Time taken for 1 epoch 2.5481255054473877 sec\n",
            "\n",
            "Epoch 10 Batch 0 Loss 0.6752\n",
            "Epoch 10 Loss 0.7473\n",
            "Time taken for 1 epoch 2.8946220874786377 sec\n",
            "\n",
            "Epoch 11 Batch 0 Loss 0.6472\n",
            "Epoch 11 Loss 0.7096\n",
            "Time taken for 1 epoch 2.594940423965454 sec\n",
            "\n",
            "Epoch 12 Batch 0 Loss 0.6287\n",
            "Epoch 12 Loss 0.6805\n",
            "Time taken for 1 epoch 2.948852300643921 sec\n",
            "\n",
            "Epoch 13 Batch 0 Loss 0.6103\n",
            "Epoch 13 Loss 0.6580\n",
            "Time taken for 1 epoch 2.5949840545654297 sec\n",
            "\n",
            "Epoch 14 Batch 0 Loss 0.5738\n",
            "Epoch 14 Loss 0.6305\n",
            "Time taken for 1 epoch 2.9356727600097656 sec\n",
            "\n",
            "Epoch 15 Batch 0 Loss 0.5548\n",
            "Epoch 15 Loss 0.5967\n",
            "Time taken for 1 epoch 2.6114134788513184 sec\n",
            "\n",
            "Epoch 16 Batch 0 Loss 0.5620\n",
            "Epoch 16 Loss 0.5702\n",
            "Time taken for 1 epoch 3.8798675537109375 sec\n",
            "\n",
            "Epoch 17 Batch 0 Loss 0.5041\n",
            "Epoch 17 Loss 0.5370\n",
            "Time taken for 1 epoch 2.6272270679473877 sec\n",
            "\n",
            "Epoch 18 Batch 0 Loss 0.4694\n",
            "Epoch 18 Loss 0.4887\n",
            "Time taken for 1 epoch 2.992558479309082 sec\n",
            "\n",
            "Epoch 19 Batch 0 Loss 0.4395\n",
            "Epoch 19 Loss 0.4412\n",
            "Time taken for 1 epoch 2.623915433883667 sec\n",
            "\n",
            "Epoch 20 Batch 0 Loss 0.4054\n",
            "Epoch 20 Loss 0.4069\n",
            "Time taken for 1 epoch 3.057619333267212 sec\n",
            "\n",
            "Epoch 21 Batch 0 Loss 0.3717\n",
            "Epoch 21 Loss 0.3819\n",
            "Time taken for 1 epoch 2.6337711811065674 sec\n",
            "\n",
            "Epoch 22 Batch 0 Loss 0.3404\n",
            "Epoch 22 Loss 0.3640\n",
            "Time taken for 1 epoch 3.208345890045166 sec\n",
            "\n",
            "Epoch 23 Batch 0 Loss 0.3269\n",
            "Epoch 23 Loss 0.3489\n",
            "Time taken for 1 epoch 2.676395893096924 sec\n",
            "\n",
            "Epoch 24 Batch 0 Loss 0.2898\n",
            "Epoch 24 Loss 0.3235\n",
            "Time taken for 1 epoch 3.1416122913360596 sec\n",
            "\n",
            "Epoch 25 Batch 0 Loss 0.2645\n",
            "Epoch 25 Loss 0.2876\n",
            "Time taken for 1 epoch 2.6692392826080322 sec\n",
            "\n",
            "Epoch 26 Batch 0 Loss 0.2406\n",
            "Epoch 26 Loss 0.2664\n",
            "Time taken for 1 epoch 3.7580668926239014 sec\n",
            "\n",
            "Epoch 27 Batch 0 Loss 0.2054\n",
            "Epoch 27 Loss 0.2372\n",
            "Time taken for 1 epoch 2.6941850185394287 sec\n",
            "\n",
            "Epoch 28 Batch 0 Loss 0.1823\n",
            "Epoch 28 Loss 0.2127\n",
            "Time taken for 1 epoch 3.056490659713745 sec\n",
            "\n",
            "Epoch 29 Batch 0 Loss 0.1538\n",
            "Epoch 29 Loss 0.1641\n",
            "Time taken for 1 epoch 2.674464464187622 sec\n",
            "\n",
            "Epoch 30 Batch 0 Loss 0.1074\n",
            "Epoch 30 Loss 0.1338\n",
            "Time taken for 1 epoch 3.0744194984436035 sec\n",
            "\n",
            "Epoch 31 Batch 0 Loss 0.0910\n",
            "Epoch 31 Loss 0.1130\n",
            "Time taken for 1 epoch 2.6865153312683105 sec\n",
            "\n",
            "Epoch 32 Batch 0 Loss 0.0697\n",
            "Epoch 32 Loss 0.1019\n",
            "Time taken for 1 epoch 3.118769407272339 sec\n",
            "\n",
            "Epoch 33 Batch 0 Loss 0.0481\n",
            "Epoch 33 Loss 0.0877\n",
            "Time taken for 1 epoch 2.7188589572906494 sec\n",
            "\n",
            "Epoch 34 Batch 0 Loss 0.0567\n",
            "Epoch 34 Loss 0.0782\n",
            "Time taken for 1 epoch 3.1030635833740234 sec\n",
            "\n",
            "Epoch 35 Batch 0 Loss 0.0492\n",
            "Epoch 35 Loss 0.0700\n",
            "Time taken for 1 epoch 2.6960785388946533 sec\n",
            "\n",
            "Epoch 36 Batch 0 Loss 0.0302\n",
            "Epoch 36 Loss 0.0639\n",
            "Time taken for 1 epoch 3.1402299404144287 sec\n",
            "\n",
            "Epoch 37 Batch 0 Loss 0.0356\n",
            "Epoch 37 Loss 0.0546\n",
            "Time taken for 1 epoch 2.6875789165496826 sec\n",
            "\n",
            "Epoch 38 Batch 0 Loss 0.0316\n",
            "Epoch 38 Loss 0.0458\n",
            "Time taken for 1 epoch 3.078701972961426 sec\n",
            "\n",
            "Epoch 39 Batch 0 Loss 0.0151\n",
            "Epoch 39 Loss 0.0408\n",
            "Time taken for 1 epoch 2.670743942260742 sec\n",
            "\n",
            "Epoch 40 Batch 0 Loss 0.0189\n",
            "Epoch 40 Loss 0.0353\n",
            "Time taken for 1 epoch 3.071744441986084 sec\n",
            "\n",
            "Epoch 41 Batch 0 Loss 0.0198\n",
            "Epoch 41 Loss 0.0335\n",
            "Time taken for 1 epoch 2.671170234680176 sec\n",
            "\n",
            "Epoch 42 Batch 0 Loss 0.0150\n",
            "Epoch 42 Loss 0.0346\n",
            "Time taken for 1 epoch 3.1054062843322754 sec\n",
            "\n",
            "Epoch 43 Batch 0 Loss 0.0198\n",
            "Epoch 43 Loss 0.0315\n",
            "Time taken for 1 epoch 2.6501729488372803 sec\n",
            "\n",
            "Epoch 44 Batch 0 Loss 0.0172\n",
            "Epoch 44 Loss 0.0296\n",
            "Time taken for 1 epoch 3.1496663093566895 sec\n",
            "\n",
            "Epoch 45 Batch 0 Loss 0.0109\n",
            "Epoch 45 Loss 0.0306\n",
            "Time taken for 1 epoch 2.69903564453125 sec\n",
            "\n",
            "Epoch 46 Batch 0 Loss 0.0105\n",
            "Epoch 46 Loss 0.0322\n",
            "Time taken for 1 epoch 3.0884854793548584 sec\n",
            "\n",
            "Epoch 47 Batch 0 Loss 0.0146\n",
            "Epoch 47 Loss 0.0322\n",
            "Time taken for 1 epoch 2.6746444702148438 sec\n",
            "\n",
            "Epoch 48 Batch 0 Loss 0.0148\n",
            "Epoch 48 Loss 0.0289\n",
            "Time taken for 1 epoch 3.0961642265319824 sec\n",
            "\n",
            "Epoch 49 Batch 0 Loss 0.0173\n",
            "Epoch 49 Loss 0.0288\n",
            "Time taken for 1 epoch 2.6733171939849854 sec\n",
            "\n",
            "Epoch 50 Batch 0 Loss 0.0172\n",
            "Epoch 50 Loss 0.0275\n",
            "Time taken for 1 epoch 3.119947671890259 sec\n",
            "\n",
            "Epoch 51 Batch 0 Loss 0.0127\n",
            "Epoch 51 Loss 0.0308\n",
            "Time taken for 1 epoch 2.6790308952331543 sec\n",
            "\n",
            "Epoch 52 Batch 0 Loss 0.0089\n",
            "Epoch 52 Loss 0.0310\n",
            "Time taken for 1 epoch 3.0703611373901367 sec\n",
            "\n",
            "Epoch 53 Batch 0 Loss 0.0076\n",
            "Epoch 53 Loss 0.0252\n",
            "Time taken for 1 epoch 2.661372661590576 sec\n",
            "\n",
            "Epoch 54 Batch 0 Loss 0.0139\n",
            "Epoch 54 Loss 0.0234\n",
            "Time taken for 1 epoch 3.0437123775482178 sec\n",
            "\n",
            "Epoch 55 Batch 0 Loss 0.0102\n",
            "Epoch 55 Loss 0.0223\n",
            "Time taken for 1 epoch 2.6656413078308105 sec\n",
            "\n",
            "Epoch 56 Batch 0 Loss 0.0115\n",
            "Epoch 56 Loss 0.0210\n",
            "Time taken for 1 epoch 3.071354866027832 sec\n",
            "\n",
            "Epoch 57 Batch 0 Loss 0.0116\n",
            "Epoch 57 Loss 0.0189\n",
            "Time taken for 1 epoch 2.661430597305298 sec\n",
            "\n",
            "Epoch 58 Batch 0 Loss 0.0131\n",
            "Epoch 58 Loss 0.0160\n",
            "Time taken for 1 epoch 3.0791571140289307 sec\n",
            "\n",
            "Epoch 59 Batch 0 Loss 0.0082\n",
            "Epoch 59 Loss 0.0134\n",
            "Time taken for 1 epoch 2.686941146850586 sec\n",
            "\n",
            "Epoch 60 Batch 0 Loss 0.0022\n",
            "Epoch 60 Loss 0.0101\n",
            "Time taken for 1 epoch 4.411203622817993 sec\n",
            "\n",
            "Epoch 61 Batch 0 Loss 0.0036\n",
            "Epoch 61 Loss 0.0103\n",
            "Time taken for 1 epoch 2.7633538246154785 sec\n",
            "\n",
            "Epoch 62 Batch 0 Loss 0.0014\n",
            "Epoch 62 Loss 0.0077\n",
            "Time taken for 1 epoch 3.083139181137085 sec\n",
            "\n",
            "Epoch 63 Batch 0 Loss 0.0016\n",
            "Epoch 63 Loss 0.0078\n",
            "Time taken for 1 epoch 2.689650058746338 sec\n",
            "\n",
            "Epoch 64 Batch 0 Loss 0.0011\n",
            "Epoch 64 Loss 0.0072\n",
            "Time taken for 1 epoch 4.1665215492248535 sec\n",
            "\n",
            "Epoch 65 Batch 0 Loss 0.0012\n",
            "Epoch 65 Loss 0.0058\n",
            "Time taken for 1 epoch 2.6942715644836426 sec\n",
            "\n",
            "Epoch 66 Batch 0 Loss 0.0009\n",
            "Epoch 66 Loss 0.0049\n",
            "Time taken for 1 epoch 3.077727794647217 sec\n",
            "\n",
            "Epoch 67 Batch 0 Loss 0.0009\n",
            "Epoch 67 Loss 0.0046\n",
            "Time taken for 1 epoch 2.665529489517212 sec\n",
            "\n",
            "Epoch 68 Batch 0 Loss 0.0008\n",
            "Epoch 68 Loss 0.0041\n",
            "Time taken for 1 epoch 3.189718008041382 sec\n",
            "\n",
            "Epoch 69 Batch 0 Loss 0.0007\n",
            "Epoch 69 Loss 0.0036\n",
            "Time taken for 1 epoch 2.676623582839966 sec\n",
            "\n",
            "Epoch 70 Batch 0 Loss 0.0007\n",
            "Epoch 70 Loss 0.0038\n",
            "Time taken for 1 epoch 3.0937933921813965 sec\n",
            "\n",
            "Epoch 71 Batch 0 Loss 0.0007\n",
            "Epoch 71 Loss 0.0034\n",
            "Time taken for 1 epoch 2.6575510501861572 sec\n",
            "\n",
            "Epoch 72 Batch 0 Loss 0.0007\n",
            "Epoch 72 Loss 0.0032\n",
            "Time taken for 1 epoch 3.084087371826172 sec\n",
            "\n",
            "Epoch 73 Batch 0 Loss 0.0006\n",
            "Epoch 73 Loss 0.0027\n",
            "Time taken for 1 epoch 2.652198314666748 sec\n",
            "\n",
            "Epoch 74 Batch 0 Loss 0.0005\n",
            "Epoch 74 Loss 0.0028\n",
            "Time taken for 1 epoch 3.0657737255096436 sec\n",
            "\n",
            "Epoch 75 Batch 0 Loss 0.0005\n",
            "Epoch 75 Loss 0.0027\n",
            "Time taken for 1 epoch 2.6779887676239014 sec\n",
            "\n",
            "Epoch 76 Batch 0 Loss 0.0008\n",
            "Epoch 76 Loss 0.0039\n",
            "Time taken for 1 epoch 3.155811309814453 sec\n",
            "\n",
            "Epoch 77 Batch 0 Loss 0.0007\n",
            "Epoch 77 Loss 0.0047\n",
            "Time taken for 1 epoch 2.6561317443847656 sec\n",
            "\n",
            "Epoch 78 Batch 0 Loss 0.0009\n",
            "Epoch 78 Loss 0.0050\n",
            "Time taken for 1 epoch 3.21461820602417 sec\n",
            "\n",
            "Epoch 79 Batch 0 Loss 0.0008\n",
            "Epoch 79 Loss 0.0034\n",
            "Time taken for 1 epoch 2.671245813369751 sec\n",
            "\n",
            "Epoch 80 Batch 0 Loss 0.0006\n",
            "Epoch 80 Loss 0.0038\n",
            "Time taken for 1 epoch 3.0491890907287598 sec\n",
            "\n",
            "Epoch 81 Batch 0 Loss 0.0007\n",
            "Epoch 81 Loss 0.0058\n",
            "Time taken for 1 epoch 2.650644063949585 sec\n",
            "\n",
            "Epoch 82 Batch 0 Loss 0.0012\n",
            "Epoch 82 Loss 0.0067\n",
            "Time taken for 1 epoch 3.138676881790161 sec\n",
            "\n",
            "Epoch 83 Batch 0 Loss 0.0009\n",
            "Epoch 83 Loss 0.0064\n",
            "Time taken for 1 epoch 2.6564652919769287 sec\n",
            "\n",
            "Epoch 84 Batch 0 Loss 0.0015\n",
            "Epoch 84 Loss 0.0069\n",
            "Time taken for 1 epoch 3.021768093109131 sec\n",
            "\n",
            "Epoch 85 Batch 0 Loss 0.0016\n",
            "Epoch 85 Loss 0.0075\n",
            "Time taken for 1 epoch 2.6542110443115234 sec\n",
            "\n",
            "Epoch 86 Batch 0 Loss 0.0007\n",
            "Epoch 86 Loss 0.0088\n",
            "Time taken for 1 epoch 3.1514875888824463 sec\n",
            "\n",
            "Epoch 87 Batch 0 Loss 0.0010\n",
            "Epoch 87 Loss 0.0115\n",
            "Time taken for 1 epoch 2.655411958694458 sec\n",
            "\n",
            "Epoch 88 Batch 0 Loss 0.0052\n",
            "Epoch 88 Loss 0.0128\n",
            "Time taken for 1 epoch 3.0347142219543457 sec\n",
            "\n",
            "Epoch 89 Batch 0 Loss 0.0078\n",
            "Epoch 89 Loss 0.0141\n",
            "Time taken for 1 epoch 2.691873788833618 sec\n",
            "\n",
            "Epoch 90 Batch 0 Loss 0.0065\n",
            "Epoch 90 Loss 0.0165\n",
            "Time taken for 1 epoch 3.0507168769836426 sec\n",
            "\n",
            "Epoch 91 Batch 0 Loss 0.0052\n",
            "Epoch 91 Loss 0.0238\n",
            "Time taken for 1 epoch 2.664639711380005 sec\n",
            "\n",
            "Epoch 92 Batch 0 Loss 0.0123\n",
            "Epoch 92 Loss 0.0223\n",
            "Time taken for 1 epoch 3.0382261276245117 sec\n",
            "\n",
            "Epoch 93 Batch 0 Loss 0.0143\n",
            "Epoch 93 Loss 0.0212\n",
            "Time taken for 1 epoch 2.6649129390716553 sec\n",
            "\n",
            "Epoch 94 Batch 0 Loss 0.0086\n",
            "Epoch 94 Loss 0.0188\n",
            "Time taken for 1 epoch 3.0904459953308105 sec\n",
            "\n",
            "Epoch 95 Batch 0 Loss 0.0045\n",
            "Epoch 95 Loss 0.0211\n",
            "Time taken for 1 epoch 2.6578028202056885 sec\n",
            "\n",
            "Epoch 96 Batch 0 Loss 0.0137\n",
            "Epoch 96 Loss 0.0199\n",
            "Time taken for 1 epoch 3.419660806655884 sec\n",
            "\n",
            "Epoch 97 Batch 0 Loss 0.0142\n",
            "Epoch 97 Loss 0.0179\n",
            "Time taken for 1 epoch 2.6765246391296387 sec\n",
            "\n",
            "Epoch 98 Batch 0 Loss 0.0134\n",
            "Epoch 98 Loss 0.0165\n",
            "Time taken for 1 epoch 3.058131694793701 sec\n",
            "\n",
            "Epoch 99 Batch 0 Loss 0.0163\n",
            "Epoch 99 Loss 0.0201\n",
            "Time taken for 1 epoch 2.661160469055176 sec\n",
            "\n",
            "Epoch 100 Batch 0 Loss 0.0177\n",
            "Epoch 100 Loss 0.0195\n",
            "Time taken for 1 epoch 3.0816614627838135 sec\n",
            "\n"
          ],
          "name": "stdout"
        }
      ]
    },
    {
      "cell_type": "markdown",
      "metadata": {
        "colab_type": "text",
        "id": "mU3Ce8M6I3rz"
      },
      "source": [
        "## Translate\n",
        "\n",
        "* The evaluate function is similar to the training loop, except we don't use *teacher forcing* here. The input to the decoder at each time step is its previous predictions along with the hidden state and the encoder output.\n",
        "* Stop predicting when the model predicts the *end token*.\n",
        "* And store the *attention weights for every time step*.\n",
        "\n",
        "Note: The encoder output is calculated only once for one input."
      ]
    },
    {
      "cell_type": "code",
      "metadata": {
        "colab_type": "code",
        "id": "EbQpyYs13jF_",
        "colab": {}
      },
      "source": [
        "def evaluate(sentence):\n",
        "    attention_plot = np.zeros((max_length_targ, max_length_inp))\n",
        "\n",
        "    sentence = preprocess_sentence(sentence)\n",
        "\n",
        "    inputs = [inp_lang.word_index[i] for i in sentence.split(' ')]\n",
        "    inputs = tf.keras.preprocessing.sequence.pad_sequences([inputs],\n",
        "                                                           maxlen=max_length_inp,\n",
        "                                                           padding='post')\n",
        "    inputs = tf.convert_to_tensor(inputs)\n",
        "\n",
        "    result = ''\n",
        "\n",
        "    hidden = [tf.zeros((1, units))]\n",
        "    enc_out, enc_hidden = encoder(inputs, hidden)\n",
        "\n",
        "    dec_hidden = enc_hidden\n",
        "    dec_input = tf.expand_dims([targ_lang.word_index['<start>']], 0)\n",
        "\n",
        "    for t in range(max_length_targ):\n",
        "        predictions, dec_hidden, attention_weights = decoder(dec_input,\n",
        "                                                             dec_hidden,\n",
        "                                                             enc_out)\n",
        "\n",
        "        # storing the attention weights to plot later on\n",
        "        attention_weights = tf.reshape(attention_weights, (-1, ))\n",
        "        attention_plot[t] = attention_weights.numpy()\n",
        "\n",
        "        predicted_id = tf.argmax(predictions[0]).numpy()\n",
        "\n",
        "        result += targ_lang.index_word[predicted_id] + ' '\n",
        "\n",
        "        if targ_lang.index_word[predicted_id] == '<end>':\n",
        "            return result, sentence, attention_plot\n",
        "\n",
        "        # the predicted ID is fed back into the model\n",
        "        dec_input = tf.expand_dims([predicted_id], 0)\n",
        "\n",
        "    return result, sentence, attention_plot"
      ],
      "execution_count": 0,
      "outputs": []
    },
    {
      "cell_type": "code",
      "metadata": {
        "colab_type": "code",
        "id": "s5hQWlbN3jGF",
        "colab": {}
      },
      "source": [
        "# function for plotting the attention weights\n",
        "def plot_attention(attention, sentence, predicted_sentence):\n",
        "    fig = plt.figure(figsize=(10,10))\n",
        "    ax = fig.add_subplot(1, 1, 1)\n",
        "    ax.matshow(attention, cmap='viridis')\n",
        "\n",
        "    fontdict = {'fontsize': 14}\n",
        "\n",
        "    ax.set_xticklabels([''] + sentence, fontdict=fontdict, rotation=90)\n",
        "    ax.set_yticklabels([''] + predicted_sentence, fontdict=fontdict)\n",
        "\n",
        "    plt.show()"
      ],
      "execution_count": 0,
      "outputs": []
    },
    {
      "cell_type": "code",
      "metadata": {
        "colab_type": "code",
        "id": "sl9zUHzg3jGI",
        "colab": {}
      },
      "source": [
        "def translate(sentence):\n",
        "    result, sentence, attention_plot = evaluate(sentence)\n",
        "\n",
        "    print('Input: %s' % (sentence))\n",
        "    print('Predicted translation: {}'.format(result))\n",
        "\n",
        "    attention_plot = attention_plot[:len(result.split(' ')), :len(sentence.split(' '))]\n",
        "    plot_attention(attention_plot, sentence.split(' '), result.split(' '))"
      ],
      "execution_count": 0,
      "outputs": []
    },
    {
      "cell_type": "markdown",
      "metadata": {
        "colab_type": "text",
        "id": "n250XbnjOaqP"
      },
      "source": [
        "## Restore the latest checkpoint and test"
      ]
    },
    {
      "cell_type": "code",
      "metadata": {
        "colab_type": "code",
        "id": "UJpT9D5_OgP6",
        "outputId": "49efda67-3270-4fc0-c76a-75e4822213b8",
        "colab": {
          "base_uri": "https://localhost:8080/",
          "height": 34
        }
      },
      "source": [
        "# restoring the latest checkpoint in checkpoint_dir\n",
        "checkpoint.restore(tf.train.latest_checkpoint(checkpoint_dir))"
      ],
      "execution_count": 32,
      "outputs": [
        {
          "output_type": "execute_result",
          "data": {
            "text/plain": [
              "<tensorflow.python.training.tracking.util.CheckpointLoadStatus at 0x7fb3a0320b38>"
            ]
          },
          "metadata": {
            "tags": []
          },
          "execution_count": 32
        }
      ]
    },
    {
      "cell_type": "code",
      "metadata": {
        "colab_type": "code",
        "id": "WrAM0FDomq3E",
        "outputId": "66fb37a0-3c24-4007-8e78-afee4b72452d",
        "colab": {
          "base_uri": "https://localhost:8080/",
          "height": 476
        }
      },
      "source": [
        "translate(u'best paper notebook')"
      ],
      "execution_count": 33,
      "outputs": [
        {
          "output_type": "stream",
          "text": [
            "Input: <start> best paper notebook <end>\n",
            "Predicted translation: paper <end> \n"
          ],
          "name": "stdout"
        },
        {
          "output_type": "display_data",
          "data": {
            "image/png": "[encoded data removed]",
            "text/plain": [
              "<Figure size 720x720 with 1 Axes>"
            ]
          },
          "metadata": {
            "tags": []
          }
        }
      ]
    },
    {
      "cell_type": "code",
      "metadata": {
        "colab_type": "code",
        "id": "zSx2iM36EZQZ",
        "outputId": "4b8bcea9-4c3c-420e-8ac2-ef0a8b790f6b",
        "colab": {
          "base_uri": "https://localhost:8080/",
          "height": 476
        }
      },
      "source": [
        "translate(u'best notebook ever')"
      ],
      "execution_count": 34,
      "outputs": [
        {
          "output_type": "stream",
          "text": [
            "Input: <start> best notebook ever <end>\n",
            "Predicted translation: bittorrent <end> \n"
          ],
          "name": "stdout"
        },
        {
          "output_type": "display_data",
          "data": {
            "image/png": "[encoded data removed]",
            "text/plain": [
              "<Figure size 720x720 with 1 Axes>"
            ]
          },
          "metadata": {
            "tags": []
          }
        }
      ]
    },
    {
      "cell_type": "code",
      "metadata": {
        "colab_type": "code",
        "id": "A3LLCx3ZE0Ls",
        "outputId": "8c1d3987-fbeb-4ac4-a9ae-5ed6ec76d56d",
        "colab": {
          "base_uri": "https://localhost:8080/",
          "height": 318
        }
      },
      "source": [
        "translate(u'five best sites for finding deals online')"
      ],
      "execution_count": 35,
      "outputs": [
        {
          "output_type": "stream",
          "text": [
            "Input: <start> five best sites for finding deals online <end>\n",
            "Predicted translation: deals <end> \n"
          ],
          "name": "stdout"
        },
        {
          "output_type": "display_data",
          "data": {
            "image/png": "[encoded data removed]",
            "text/plain": [
              "<Figure size 720x720 with 1 Axes>"
            ]
          },
          "metadata": {
            "tags": []
          }
        }
      ]
    },
    {
      "cell_type": "code",
      "metadata": {
        "colab_type": "code",
        "id": "DUQVLVqUE1YW",
        "outputId": "252c9f41-4e91-41a0-bcf5-14a2f633b1b6",
        "colab": {
          "base_uri": "https://localhost:8080/",
          "height": 355
        }
      },
      "source": [
        "# wrong translation\n",
        "translate(u'make your own firefox site search plug-in')"
      ],
      "execution_count": 37,
      "outputs": [
        {
          "output_type": "stream",
          "text": [
            "Input: <start> make your own firefox site search plug in <end>\n",
            "Predicted translation: firefox search <end> \n"
          ],
          "name": "stdout"
        },
        {
          "output_type": "display_data",
          "data": {
            "image/png": "[encoded data removed]",
            "text/plain": [
              "<Figure size 720x720 with 1 Axes>"
            ]
          },
          "metadata": {
            "tags": []
          }
        }
      ]
    },
    {
      "cell_type": "code",
      "metadata": {
        "id": "yAMO3g6g4N7k",
        "colab_type": "code",
        "colab": {
          "base_uri": "https://localhost:8080/",
          "height": 34
        },
        "outputId": "68419868-d9da-4eb2-c4da-58e5368001d0"
      },
      "source": [
        "  from tensorflow.python.util import compat\n",
        "  #where to save to?\n",
        "  export_path_base = 'model'\n",
        "  export_path = os.path.join(\n",
        "      compat.as_bytes(export_path_base))\n",
        "  print ('Exporting trained model to', export_path)"
      ],
      "execution_count": 44,
      "outputs": [
        {
          "output_type": "stream",
          "text": [
            "Exporting trained model to b'model'\n"
          ],
          "name": "stdout"
        }
      ]
    },
    {
      "cell_type": "code",
      "metadata": {
        "id": "bPUn8Eyc0ffQ",
        "colab_type": "code",
        "colab": {
          "base_uri": "https://localhost:8080/",
          "height": 231
        },
        "outputId": "176756c9-3639-42d5-fe1b-e54069658c45"
      },
      "source": [
        "from tensorflow.python.saved_model import builder as saved_model_builder\n",
        "from tensorflow.python.saved_model import signature_constants\n",
        "from tensorflow.python.saved_model import signature_def_utils\n",
        "from tensorflow.python.saved_model import tag_constants\n",
        "from tensorflow.python.saved_model import utils\n",
        "  \n",
        "  #This creates a SERVABLE from our model\n",
        "  #saves a \"snapshot\" of the trained model to reliable storage \n",
        "  #so that it can be loaded later for inference.\n",
        "  #can save as many version as necessary\n",
        "  \n",
        "  #the tensoroflow serving main file tensorflow_model_server\n",
        "  #will create a SOURCE out of it, the source\n",
        "  #can house state that is shared across multiple servables \n",
        "  #or versions\n",
        "  \n",
        "  #we can later create a LOADER from it using tf.saved_model.loader.load\n",
        "  \n",
        "  #then the MANAGER decides how to handle its lifecycle\n",
        "  \n",
        "builder = saved_model_builder.SavedModelBuilder(export_path)\n",
        "\n",
        "  # Build the signature_def_map.\n",
        "  #Signature specifies what type of model is being exported, \n",
        "  #and the input/output tensors to bind to when running inference.\n",
        "  #think of them as annotiations on the graph for serving\n",
        "  #we can use them a number of ways\n",
        "  #grabbing whatever inputs/outputs/models we want either on server\n",
        "  #or via client\n",
        "classification_inputs = utils.build_tensor_info(serialized_tf_example)\n",
        "classification_outputs_classes = utils.build_tensor_info(prediction_classes)\n",
        "classification_outputs_scores = utils.build_tensor_info(values)\n",
        "\n",
        "   \n",
        "classification_signature = signature_def_utils.build_signature_def(\n",
        "    inputs={signature_constants.CLASSIFY_INPUTS: classification_inputs},\n",
        "    outputs={\n",
        "        signature_constants.CLASSIFY_OUTPUT_CLASSES:\n",
        "            classification_outputs_classes,\n",
        "        signature_constants.CLASSIFY_OUTPUT_SCORES:\n",
        "            classification_outputs_scores\n",
        "    },\n",
        "    method_name=signature_constants.CLASSIFY_METHOD_NAME)\n",
        "\n",
        "tensor_info_x = utils.build_tensor_info(x)\n",
        "tensor_info_y = utils.build_tensor_info(y)\n",
        "\n",
        "prediction_signature = signature_def_utils.build_signature_def(\n",
        "    inputs={'images': tensor_info_x},\n",
        "    outputs={'scores': tensor_info_y},\n",
        "    method_name=signature_constants.PREDICT_METHOD_NAME)\n",
        "legacy_init_op = tf.group(tf.tables_initializer(), name='legacy_init_op')\n",
        "  \n",
        "  #add the sigs to the servable\n",
        "builder.add_meta_graph_and_variables(\n",
        "    sess, [tag_constants.SERVING],\n",
        "    signature_def_map={\n",
        "        'predict_images':\n",
        "            prediction_signature,\n",
        "        signature_constants.DEFAULT_SERVING_SIGNATURE_DEF_KEY:\n",
        "            classification_signature,\n",
        "    },\n",
        "    legacy_init_op=legacy_init_op)\n",
        " #save it!\n",
        "builder.save()\n",
        "\n",
        "print ('Done exporting!')"
      ],
      "execution_count": 48,
      "outputs": [
        {
          "output_type": "error",
          "ename": "NameError",
          "evalue": "ignored",
          "traceback": [
            "\u001b[0;31m---------------------------------------------------------------------------\u001b[0m",
            "\u001b[0;31mNameError\u001b[0m                                 Traceback (most recent call last)",
            "\u001b[0;32m<ipython-input-48-ea37a03b56aa>\u001b[0m in \u001b[0;36m<module>\u001b[0;34m()\u001b[0m\n\u001b[1;32m     28\u001b[0m   \u001b[0;31m#grabbing whatever inputs/outputs/models we want either on server\u001b[0m\u001b[0;34m\u001b[0m\u001b[0;34m\u001b[0m\u001b[0;34m\u001b[0m\u001b[0m\n\u001b[1;32m     29\u001b[0m   \u001b[0;31m#or via client\u001b[0m\u001b[0;34m\u001b[0m\u001b[0;34m\u001b[0m\u001b[0;34m\u001b[0m\u001b[0m\n\u001b[0;32m---> 30\u001b[0;31m \u001b[0mclassification_inputs\u001b[0m \u001b[0;34m=\u001b[0m \u001b[0mutils\u001b[0m\u001b[0;34m.\u001b[0m\u001b[0mbuild_tensor_info\u001b[0m\u001b[0;34m(\u001b[0m\u001b[0mserialized_tf_example\u001b[0m\u001b[0;34m)\u001b[0m\u001b[0;34m\u001b[0m\u001b[0;34m\u001b[0m\u001b[0m\n\u001b[0m\u001b[1;32m     31\u001b[0m \u001b[0mclassification_outputs_classes\u001b[0m \u001b[0;34m=\u001b[0m \u001b[0mutils\u001b[0m\u001b[0;34m.\u001b[0m\u001b[0mbuild_tensor_info\u001b[0m\u001b[0;34m(\u001b[0m\u001b[0mprediction_classes\u001b[0m\u001b[0;34m)\u001b[0m\u001b[0;34m\u001b[0m\u001b[0;34m\u001b[0m\u001b[0m\n\u001b[1;32m     32\u001b[0m \u001b[0mclassification_outputs_scores\u001b[0m \u001b[0;34m=\u001b[0m \u001b[0mutils\u001b[0m\u001b[0;34m.\u001b[0m\u001b[0mbuild_tensor_info\u001b[0m\u001b[0;34m(\u001b[0m\u001b[0mvalues\u001b[0m\u001b[0;34m)\u001b[0m\u001b[0;34m\u001b[0m\u001b[0;34m\u001b[0m\u001b[0m\n",
            "\u001b[0;31mNameError\u001b[0m: name 'serialized_tf_example' is not defined"
          ]
        }
      ]
    }
  ]
}